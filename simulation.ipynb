{
  "cells": [
    {
      "cell_type": "markdown",
      "metadata": {
        "id": "view-in-github",
        "colab_type": "text"
      },
      "source": [
        "<a href=\"https://colab.research.google.com/github/Gingerhouse/MLSurvivalAnalysis/blob/main/simulation.ipynb\" target=\"_parent\"><img src=\"https://colab.research.google.com/assets/colab-badge.svg\" alt=\"Open In Colab\"/></a>"
      ]
    },
    {
      "cell_type": "markdown",
      "source": [
        "https://www.overleaf.com/5942564154hxfrgqdshprs#b5f506\n"
      ],
      "metadata": {
        "id": "13epMbVdbMDK"
      },
      "id": "13epMbVdbMDK"
    },
    {
      "cell_type": "code",
      "source": [
        "#!pip install scikit-survival"
      ],
      "metadata": {
        "id": "dn7a8d0ysiUm",
        "collapsed": true,
        "colab": {
          "base_uri": "https://localhost:8080/"
        },
        "outputId": "de77b3fa-7687-4f6a-d9f1-c32e45b33dc9"
      },
      "id": "dn7a8d0ysiUm",
      "execution_count": null,
      "outputs": [
        {
          "output_type": "stream",
          "name": "stdout",
          "text": [
            "Collecting scikit-survival\n",
            "  Downloading scikit_survival-0.23.1-cp310-cp310-manylinux_2_17_x86_64.manylinux2014_x86_64.whl.metadata (48 kB)\n",
            "\u001b[?25l     \u001b[90m━━━━━━━━━━━━━━━━━━━━━━━━━━━━━━━━━━━━━━━━\u001b[0m \u001b[32m0.0/49.0 kB\u001b[0m \u001b[31m?\u001b[0m eta \u001b[36m-:--:--\u001b[0m\r\u001b[2K     \u001b[90m━━━━━━━━━━━━━━━━━━━━━━━━━━━━━━━━━━━━━━━━\u001b[0m \u001b[32m49.0/49.0 kB\u001b[0m \u001b[31m2.3 MB/s\u001b[0m eta \u001b[36m0:00:00\u001b[0m\n",
            "\u001b[?25hRequirement already satisfied: ecos in /usr/local/lib/python3.10/dist-packages (from scikit-survival) (2.0.14)\n",
            "Requirement already satisfied: joblib in /usr/local/lib/python3.10/dist-packages (from scikit-survival) (1.4.2)\n",
            "Requirement already satisfied: numexpr in /usr/local/lib/python3.10/dist-packages (from scikit-survival) (2.10.1)\n",
            "Requirement already satisfied: numpy in /usr/local/lib/python3.10/dist-packages (from scikit-survival) (1.26.4)\n",
            "Requirement already satisfied: osqp!=0.6.0,!=0.6.1 in /usr/local/lib/python3.10/dist-packages (from scikit-survival) (0.6.7.post3)\n",
            "Requirement already satisfied: pandas>=1.4.0 in /usr/local/lib/python3.10/dist-packages (from scikit-survival) (2.2.2)\n",
            "Requirement already satisfied: scipy>=1.3.2 in /usr/local/lib/python3.10/dist-packages (from scikit-survival) (1.13.1)\n",
            "Requirement already satisfied: scikit-learn<1.6,>=1.4.0 in /usr/local/lib/python3.10/dist-packages (from scikit-survival) (1.5.2)\n",
            "Requirement already satisfied: qdldl in /usr/local/lib/python3.10/dist-packages (from osqp!=0.6.0,!=0.6.1->scikit-survival) (0.1.7.post4)\n",
            "Requirement already satisfied: python-dateutil>=2.8.2 in /usr/local/lib/python3.10/dist-packages (from pandas>=1.4.0->scikit-survival) (2.8.2)\n",
            "Requirement already satisfied: pytz>=2020.1 in /usr/local/lib/python3.10/dist-packages (from pandas>=1.4.0->scikit-survival) (2024.2)\n",
            "Requirement already satisfied: tzdata>=2022.7 in /usr/local/lib/python3.10/dist-packages (from pandas>=1.4.0->scikit-survival) (2024.2)\n",
            "Requirement already satisfied: threadpoolctl>=3.1.0 in /usr/local/lib/python3.10/dist-packages (from scikit-learn<1.6,>=1.4.0->scikit-survival) (3.5.0)\n",
            "Requirement already satisfied: six>=1.5 in /usr/local/lib/python3.10/dist-packages (from python-dateutil>=2.8.2->pandas>=1.4.0->scikit-survival) (1.16.0)\n",
            "Downloading scikit_survival-0.23.1-cp310-cp310-manylinux_2_17_x86_64.manylinux2014_x86_64.whl (3.7 MB)\n",
            "\u001b[2K   \u001b[90m━━━━━━━━━━━━━━━━━━━━━━━━━━━━━━━━━━━━━━━━\u001b[0m \u001b[32m3.7/3.7 MB\u001b[0m \u001b[31m20.3 MB/s\u001b[0m eta \u001b[36m0:00:00\u001b[0m\n",
            "\u001b[?25hInstalling collected packages: scikit-survival\n",
            "Successfully installed scikit-survival-0.23.1\n"
          ]
        }
      ]
    },
    {
      "cell_type": "code",
      "execution_count": null,
      "id": "5bb0b568-89bb-4a24-8bdc-8b7292672d5f",
      "metadata": {
        "id": "5bb0b568-89bb-4a24-8bdc-8b7292672d5f"
      },
      "outputs": [],
      "source": [
        "import pandas as pd\n",
        "import numpy as np\n",
        "import matplotlib.pyplot as plt\n",
        "\n",
        "from sklearn.model_selection import train_test_split, GridSearchCV, KFold, RandomizedSearchCV\n",
        "from sklearn.preprocessing import OneHotEncoder\n",
        "\n",
        "from sksurv.datasets import load_veterans_lung_cancer, load_whas500\n",
        "from sksurv.linear_model import CoxPHSurvivalAnalysis, CoxnetSurvivalAnalysis\n",
        "from sksurv.metrics import as_concordance_index_ipcw_scorer, as_cumulative_dynamic_auc_scorer, as_integrated_brier_score_scorer, cumulative_dynamic_auc, integrated_brier_score, concordance_index_ipcw\n",
        "from sksurv.nonparametric import kaplan_meier_estimator, nelson_aalen_estimator\n",
        "from sksurv.functions import StepFunction\n",
        "from sksurv.util import Surv\n",
        "from sksurv.tree import SurvivalTree\n",
        "from sksurv.ensemble import RandomSurvivalForest"
      ]
    },
    {
      "cell_type": "markdown",
      "source": [
        "# Package"
      ],
      "metadata": {
        "id": "G3WNfDDxck1l"
      },
      "id": "G3WNfDDxck1l"
    },
    {
      "cell_type": "code",
      "execution_count": null,
      "id": "e44e0ee5-2189-4ee2-a8a4-24fe7b6ba7c9",
      "metadata": {
        "colab": {
          "base_uri": "https://localhost:8080/",
          "height": 444
        },
        "id": "e44e0ee5-2189-4ee2-a8a4-24fe7b6ba7c9",
        "outputId": "e9e05b41-eb79-4aae-9e49-7b47f7f352cf"
      },
      "outputs": [
        {
          "output_type": "execute_result",
          "data": {
            "text/plain": [
              "     Age_in_years  Celltype  Karnofsky_score  Months_from_Diagnosis  \\\n",
              "0            69.0  squamous             60.0                    7.0   \n",
              "1            64.0  squamous             70.0                    5.0   \n",
              "2            38.0  squamous             60.0                    3.0   \n",
              "3            63.0  squamous             60.0                    9.0   \n",
              "4            65.0  squamous             70.0                   11.0   \n",
              "..            ...       ...              ...                    ...   \n",
              "132          65.0     large             75.0                    1.0   \n",
              "133          64.0     large             60.0                    5.0   \n",
              "134          67.0     large             70.0                   18.0   \n",
              "135          65.0     large             80.0                    4.0   \n",
              "136          37.0     large             30.0                    3.0   \n",
              "\n",
              "    Prior_therapy Treatment  \n",
              "0              no  standard  \n",
              "1             yes  standard  \n",
              "2              no  standard  \n",
              "3             yes  standard  \n",
              "4             yes  standard  \n",
              "..            ...       ...  \n",
              "132            no      test  \n",
              "133            no      test  \n",
              "134           yes      test  \n",
              "135            no      test  \n",
              "136            no      test  \n",
              "\n",
              "[137 rows x 6 columns]"
            ],
            "text/html": [
              "\n",
              "  <div id=\"df-da3c376a-f5e6-4b47-bef7-60e6310fdbf2\" class=\"colab-df-container\">\n",
              "    <div>\n",
              "<style scoped>\n",
              "    .dataframe tbody tr th:only-of-type {\n",
              "        vertical-align: middle;\n",
              "    }\n",
              "\n",
              "    .dataframe tbody tr th {\n",
              "        vertical-align: top;\n",
              "    }\n",
              "\n",
              "    .dataframe thead th {\n",
              "        text-align: right;\n",
              "    }\n",
              "</style>\n",
              "<table border=\"1\" class=\"dataframe\">\n",
              "  <thead>\n",
              "    <tr style=\"text-align: right;\">\n",
              "      <th></th>\n",
              "      <th>Age_in_years</th>\n",
              "      <th>Celltype</th>\n",
              "      <th>Karnofsky_score</th>\n",
              "      <th>Months_from_Diagnosis</th>\n",
              "      <th>Prior_therapy</th>\n",
              "      <th>Treatment</th>\n",
              "    </tr>\n",
              "  </thead>\n",
              "  <tbody>\n",
              "    <tr>\n",
              "      <th>0</th>\n",
              "      <td>69.0</td>\n",
              "      <td>squamous</td>\n",
              "      <td>60.0</td>\n",
              "      <td>7.0</td>\n",
              "      <td>no</td>\n",
              "      <td>standard</td>\n",
              "    </tr>\n",
              "    <tr>\n",
              "      <th>1</th>\n",
              "      <td>64.0</td>\n",
              "      <td>squamous</td>\n",
              "      <td>70.0</td>\n",
              "      <td>5.0</td>\n",
              "      <td>yes</td>\n",
              "      <td>standard</td>\n",
              "    </tr>\n",
              "    <tr>\n",
              "      <th>2</th>\n",
              "      <td>38.0</td>\n",
              "      <td>squamous</td>\n",
              "      <td>60.0</td>\n",
              "      <td>3.0</td>\n",
              "      <td>no</td>\n",
              "      <td>standard</td>\n",
              "    </tr>\n",
              "    <tr>\n",
              "      <th>3</th>\n",
              "      <td>63.0</td>\n",
              "      <td>squamous</td>\n",
              "      <td>60.0</td>\n",
              "      <td>9.0</td>\n",
              "      <td>yes</td>\n",
              "      <td>standard</td>\n",
              "    </tr>\n",
              "    <tr>\n",
              "      <th>4</th>\n",
              "      <td>65.0</td>\n",
              "      <td>squamous</td>\n",
              "      <td>70.0</td>\n",
              "      <td>11.0</td>\n",
              "      <td>yes</td>\n",
              "      <td>standard</td>\n",
              "    </tr>\n",
              "    <tr>\n",
              "      <th>...</th>\n",
              "      <td>...</td>\n",
              "      <td>...</td>\n",
              "      <td>...</td>\n",
              "      <td>...</td>\n",
              "      <td>...</td>\n",
              "      <td>...</td>\n",
              "    </tr>\n",
              "    <tr>\n",
              "      <th>132</th>\n",
              "      <td>65.0</td>\n",
              "      <td>large</td>\n",
              "      <td>75.0</td>\n",
              "      <td>1.0</td>\n",
              "      <td>no</td>\n",
              "      <td>test</td>\n",
              "    </tr>\n",
              "    <tr>\n",
              "      <th>133</th>\n",
              "      <td>64.0</td>\n",
              "      <td>large</td>\n",
              "      <td>60.0</td>\n",
              "      <td>5.0</td>\n",
              "      <td>no</td>\n",
              "      <td>test</td>\n",
              "    </tr>\n",
              "    <tr>\n",
              "      <th>134</th>\n",
              "      <td>67.0</td>\n",
              "      <td>large</td>\n",
              "      <td>70.0</td>\n",
              "      <td>18.0</td>\n",
              "      <td>yes</td>\n",
              "      <td>test</td>\n",
              "    </tr>\n",
              "    <tr>\n",
              "      <th>135</th>\n",
              "      <td>65.0</td>\n",
              "      <td>large</td>\n",
              "      <td>80.0</td>\n",
              "      <td>4.0</td>\n",
              "      <td>no</td>\n",
              "      <td>test</td>\n",
              "    </tr>\n",
              "    <tr>\n",
              "      <th>136</th>\n",
              "      <td>37.0</td>\n",
              "      <td>large</td>\n",
              "      <td>30.0</td>\n",
              "      <td>3.0</td>\n",
              "      <td>no</td>\n",
              "      <td>test</td>\n",
              "    </tr>\n",
              "  </tbody>\n",
              "</table>\n",
              "<p>137 rows × 6 columns</p>\n",
              "</div>\n",
              "    <div class=\"colab-df-buttons\">\n",
              "\n",
              "  <div class=\"colab-df-container\">\n",
              "    <button class=\"colab-df-convert\" onclick=\"convertToInteractive('df-da3c376a-f5e6-4b47-bef7-60e6310fdbf2')\"\n",
              "            title=\"Convert this dataframe to an interactive table.\"\n",
              "            style=\"display:none;\">\n",
              "\n",
              "  <svg xmlns=\"http://www.w3.org/2000/svg\" height=\"24px\" viewBox=\"0 -960 960 960\">\n",
              "    <path d=\"M120-120v-720h720v720H120Zm60-500h600v-160H180v160Zm220 220h160v-160H400v160Zm0 220h160v-160H400v160ZM180-400h160v-160H180v160Zm440 0h160v-160H620v160ZM180-180h160v-160H180v160Zm440 0h160v-160H620v160Z\"/>\n",
              "  </svg>\n",
              "    </button>\n",
              "\n",
              "  <style>\n",
              "    .colab-df-container {\n",
              "      display:flex;\n",
              "      gap: 12px;\n",
              "    }\n",
              "\n",
              "    .colab-df-convert {\n",
              "      background-color: #E8F0FE;\n",
              "      border: none;\n",
              "      border-radius: 50%;\n",
              "      cursor: pointer;\n",
              "      display: none;\n",
              "      fill: #1967D2;\n",
              "      height: 32px;\n",
              "      padding: 0 0 0 0;\n",
              "      width: 32px;\n",
              "    }\n",
              "\n",
              "    .colab-df-convert:hover {\n",
              "      background-color: #E2EBFA;\n",
              "      box-shadow: 0px 1px 2px rgba(60, 64, 67, 0.3), 0px 1px 3px 1px rgba(60, 64, 67, 0.15);\n",
              "      fill: #174EA6;\n",
              "    }\n",
              "\n",
              "    .colab-df-buttons div {\n",
              "      margin-bottom: 4px;\n",
              "    }\n",
              "\n",
              "    [theme=dark] .colab-df-convert {\n",
              "      background-color: #3B4455;\n",
              "      fill: #D2E3FC;\n",
              "    }\n",
              "\n",
              "    [theme=dark] .colab-df-convert:hover {\n",
              "      background-color: #434B5C;\n",
              "      box-shadow: 0px 1px 3px 1px rgba(0, 0, 0, 0.15);\n",
              "      filter: drop-shadow(0px 1px 2px rgba(0, 0, 0, 0.3));\n",
              "      fill: #FFFFFF;\n",
              "    }\n",
              "  </style>\n",
              "\n",
              "    <script>\n",
              "      const buttonEl =\n",
              "        document.querySelector('#df-da3c376a-f5e6-4b47-bef7-60e6310fdbf2 button.colab-df-convert');\n",
              "      buttonEl.style.display =\n",
              "        google.colab.kernel.accessAllowed ? 'block' : 'none';\n",
              "\n",
              "      async function convertToInteractive(key) {\n",
              "        const element = document.querySelector('#df-da3c376a-f5e6-4b47-bef7-60e6310fdbf2');\n",
              "        const dataTable =\n",
              "          await google.colab.kernel.invokeFunction('convertToInteractive',\n",
              "                                                    [key], {});\n",
              "        if (!dataTable) return;\n",
              "\n",
              "        const docLinkHtml = 'Like what you see? Visit the ' +\n",
              "          '<a target=\"_blank\" href=https://colab.research.google.com/notebooks/data_table.ipynb>data table notebook</a>'\n",
              "          + ' to learn more about interactive tables.';\n",
              "        element.innerHTML = '';\n",
              "        dataTable['output_type'] = 'display_data';\n",
              "        await google.colab.output.renderOutput(dataTable, element);\n",
              "        const docLink = document.createElement('div');\n",
              "        docLink.innerHTML = docLinkHtml;\n",
              "        element.appendChild(docLink);\n",
              "      }\n",
              "    </script>\n",
              "  </div>\n",
              "\n",
              "\n",
              "<div id=\"df-3608ea52-77d9-45a1-ab51-ee4baa0ce57d\">\n",
              "  <button class=\"colab-df-quickchart\" onclick=\"quickchart('df-3608ea52-77d9-45a1-ab51-ee4baa0ce57d')\"\n",
              "            title=\"Suggest charts\"\n",
              "            style=\"display:none;\">\n",
              "\n",
              "<svg xmlns=\"http://www.w3.org/2000/svg\" height=\"24px\"viewBox=\"0 0 24 24\"\n",
              "     width=\"24px\">\n",
              "    <g>\n",
              "        <path d=\"M19 3H5c-1.1 0-2 .9-2 2v14c0 1.1.9 2 2 2h14c1.1 0 2-.9 2-2V5c0-1.1-.9-2-2-2zM9 17H7v-7h2v7zm4 0h-2V7h2v10zm4 0h-2v-4h2v4z\"/>\n",
              "    </g>\n",
              "</svg>\n",
              "  </button>\n",
              "\n",
              "<style>\n",
              "  .colab-df-quickchart {\n",
              "      --bg-color: #E8F0FE;\n",
              "      --fill-color: #1967D2;\n",
              "      --hover-bg-color: #E2EBFA;\n",
              "      --hover-fill-color: #174EA6;\n",
              "      --disabled-fill-color: #AAA;\n",
              "      --disabled-bg-color: #DDD;\n",
              "  }\n",
              "\n",
              "  [theme=dark] .colab-df-quickchart {\n",
              "      --bg-color: #3B4455;\n",
              "      --fill-color: #D2E3FC;\n",
              "      --hover-bg-color: #434B5C;\n",
              "      --hover-fill-color: #FFFFFF;\n",
              "      --disabled-bg-color: #3B4455;\n",
              "      --disabled-fill-color: #666;\n",
              "  }\n",
              "\n",
              "  .colab-df-quickchart {\n",
              "    background-color: var(--bg-color);\n",
              "    border: none;\n",
              "    border-radius: 50%;\n",
              "    cursor: pointer;\n",
              "    display: none;\n",
              "    fill: var(--fill-color);\n",
              "    height: 32px;\n",
              "    padding: 0;\n",
              "    width: 32px;\n",
              "  }\n",
              "\n",
              "  .colab-df-quickchart:hover {\n",
              "    background-color: var(--hover-bg-color);\n",
              "    box-shadow: 0 1px 2px rgba(60, 64, 67, 0.3), 0 1px 3px 1px rgba(60, 64, 67, 0.15);\n",
              "    fill: var(--button-hover-fill-color);\n",
              "  }\n",
              "\n",
              "  .colab-df-quickchart-complete:disabled,\n",
              "  .colab-df-quickchart-complete:disabled:hover {\n",
              "    background-color: var(--disabled-bg-color);\n",
              "    fill: var(--disabled-fill-color);\n",
              "    box-shadow: none;\n",
              "  }\n",
              "\n",
              "  .colab-df-spinner {\n",
              "    border: 2px solid var(--fill-color);\n",
              "    border-color: transparent;\n",
              "    border-bottom-color: var(--fill-color);\n",
              "    animation:\n",
              "      spin 1s steps(1) infinite;\n",
              "  }\n",
              "\n",
              "  @keyframes spin {\n",
              "    0% {\n",
              "      border-color: transparent;\n",
              "      border-bottom-color: var(--fill-color);\n",
              "      border-left-color: var(--fill-color);\n",
              "    }\n",
              "    20% {\n",
              "      border-color: transparent;\n",
              "      border-left-color: var(--fill-color);\n",
              "      border-top-color: var(--fill-color);\n",
              "    }\n",
              "    30% {\n",
              "      border-color: transparent;\n",
              "      border-left-color: var(--fill-color);\n",
              "      border-top-color: var(--fill-color);\n",
              "      border-right-color: var(--fill-color);\n",
              "    }\n",
              "    40% {\n",
              "      border-color: transparent;\n",
              "      border-right-color: var(--fill-color);\n",
              "      border-top-color: var(--fill-color);\n",
              "    }\n",
              "    60% {\n",
              "      border-color: transparent;\n",
              "      border-right-color: var(--fill-color);\n",
              "    }\n",
              "    80% {\n",
              "      border-color: transparent;\n",
              "      border-right-color: var(--fill-color);\n",
              "      border-bottom-color: var(--fill-color);\n",
              "    }\n",
              "    90% {\n",
              "      border-color: transparent;\n",
              "      border-bottom-color: var(--fill-color);\n",
              "    }\n",
              "  }\n",
              "</style>\n",
              "\n",
              "  <script>\n",
              "    async function quickchart(key) {\n",
              "      const quickchartButtonEl =\n",
              "        document.querySelector('#' + key + ' button');\n",
              "      quickchartButtonEl.disabled = true;  // To prevent multiple clicks.\n",
              "      quickchartButtonEl.classList.add('colab-df-spinner');\n",
              "      try {\n",
              "        const charts = await google.colab.kernel.invokeFunction(\n",
              "            'suggestCharts', [key], {});\n",
              "      } catch (error) {\n",
              "        console.error('Error during call to suggestCharts:', error);\n",
              "      }\n",
              "      quickchartButtonEl.classList.remove('colab-df-spinner');\n",
              "      quickchartButtonEl.classList.add('colab-df-quickchart-complete');\n",
              "    }\n",
              "    (() => {\n",
              "      let quickchartButtonEl =\n",
              "        document.querySelector('#df-3608ea52-77d9-45a1-ab51-ee4baa0ce57d button');\n",
              "      quickchartButtonEl.style.display =\n",
              "        google.colab.kernel.accessAllowed ? 'block' : 'none';\n",
              "    })();\n",
              "  </script>\n",
              "</div>\n",
              "\n",
              "  <div id=\"id_d339c046-b017-407f-9117-0ec159da10a7\">\n",
              "    <style>\n",
              "      .colab-df-generate {\n",
              "        background-color: #E8F0FE;\n",
              "        border: none;\n",
              "        border-radius: 50%;\n",
              "        cursor: pointer;\n",
              "        display: none;\n",
              "        fill: #1967D2;\n",
              "        height: 32px;\n",
              "        padding: 0 0 0 0;\n",
              "        width: 32px;\n",
              "      }\n",
              "\n",
              "      .colab-df-generate:hover {\n",
              "        background-color: #E2EBFA;\n",
              "        box-shadow: 0px 1px 2px rgba(60, 64, 67, 0.3), 0px 1px 3px 1px rgba(60, 64, 67, 0.15);\n",
              "        fill: #174EA6;\n",
              "      }\n",
              "\n",
              "      [theme=dark] .colab-df-generate {\n",
              "        background-color: #3B4455;\n",
              "        fill: #D2E3FC;\n",
              "      }\n",
              "\n",
              "      [theme=dark] .colab-df-generate:hover {\n",
              "        background-color: #434B5C;\n",
              "        box-shadow: 0px 1px 3px 1px rgba(0, 0, 0, 0.15);\n",
              "        filter: drop-shadow(0px 1px 2px rgba(0, 0, 0, 0.3));\n",
              "        fill: #FFFFFF;\n",
              "      }\n",
              "    </style>\n",
              "    <button class=\"colab-df-generate\" onclick=\"generateWithVariable('x')\"\n",
              "            title=\"Generate code using this dataframe.\"\n",
              "            style=\"display:none;\">\n",
              "\n",
              "  <svg xmlns=\"http://www.w3.org/2000/svg\" height=\"24px\"viewBox=\"0 0 24 24\"\n",
              "       width=\"24px\">\n",
              "    <path d=\"M7,19H8.4L18.45,9,17,7.55,7,17.6ZM5,21V16.75L18.45,3.32a2,2,0,0,1,2.83,0l1.4,1.43a1.91,1.91,0,0,1,.58,1.4,1.91,1.91,0,0,1-.58,1.4L9.25,21ZM18.45,9,17,7.55Zm-12,3A5.31,5.31,0,0,0,4.9,8.1,5.31,5.31,0,0,0,1,6.5,5.31,5.31,0,0,0,4.9,4.9,5.31,5.31,0,0,0,6.5,1,5.31,5.31,0,0,0,8.1,4.9,5.31,5.31,0,0,0,12,6.5,5.46,5.46,0,0,0,6.5,12Z\"/>\n",
              "  </svg>\n",
              "    </button>\n",
              "    <script>\n",
              "      (() => {\n",
              "      const buttonEl =\n",
              "        document.querySelector('#id_d339c046-b017-407f-9117-0ec159da10a7 button.colab-df-generate');\n",
              "      buttonEl.style.display =\n",
              "        google.colab.kernel.accessAllowed ? 'block' : 'none';\n",
              "\n",
              "      buttonEl.onclick = () => {\n",
              "        google.colab.notebook.generateWithVariable('x');\n",
              "      }\n",
              "      })();\n",
              "    </script>\n",
              "  </div>\n",
              "\n",
              "    </div>\n",
              "  </div>\n"
            ],
            "application/vnd.google.colaboratory.intrinsic+json": {
              "type": "dataframe",
              "variable_name": "x",
              "summary": "{\n  \"name\": \"x\",\n  \"rows\": 137,\n  \"fields\": [\n    {\n      \"column\": \"Age_in_years\",\n      \"properties\": {\n        \"dtype\": \"number\",\n        \"std\": 10.541627597708011,\n        \"min\": 34.0,\n        \"max\": 81.0,\n        \"num_unique_values\": 40,\n        \"samples\": [\n          53.0,\n          55.0,\n          56.0\n        ],\n        \"semantic_type\": \"\",\n        \"description\": \"\"\n      }\n    },\n    {\n      \"column\": \"Celltype\",\n      \"properties\": {\n        \"dtype\": \"category\",\n        \"num_unique_values\": 4,\n        \"samples\": [\n          \"smallcell\",\n          \"large\",\n          \"squamous\"\n        ],\n        \"semantic_type\": \"\",\n        \"description\": \"\"\n      }\n    },\n    {\n      \"column\": \"Karnofsky_score\",\n      \"properties\": {\n        \"dtype\": \"number\",\n        \"std\": 20.039591555526336,\n        \"min\": 10.0,\n        \"max\": 99.0,\n        \"num_unique_values\": 12,\n        \"samples\": [\n          99.0,\n          85.0,\n          60.0\n        ],\n        \"semantic_type\": \"\",\n        \"description\": \"\"\n      }\n    },\n    {\n      \"column\": \"Months_from_Diagnosis\",\n      \"properties\": {\n        \"dtype\": \"number\",\n        \"std\": 10.612141146659166,\n        \"min\": 1.0,\n        \"max\": 87.0,\n        \"num_unique_values\": 28,\n        \"samples\": [\n          4.0,\n          22.0,\n          6.0\n        ],\n        \"semantic_type\": \"\",\n        \"description\": \"\"\n      }\n    },\n    {\n      \"column\": \"Prior_therapy\",\n      \"properties\": {\n        \"dtype\": \"category\",\n        \"num_unique_values\": 2,\n        \"samples\": [\n          \"yes\",\n          \"no\"\n        ],\n        \"semantic_type\": \"\",\n        \"description\": \"\"\n      }\n    },\n    {\n      \"column\": \"Treatment\",\n      \"properties\": {\n        \"dtype\": \"category\",\n        \"num_unique_values\": 2,\n        \"samples\": [\n          \"test\",\n          \"standard\"\n        ],\n        \"semantic_type\": \"\",\n        \"description\": \"\"\n      }\n    }\n  ]\n}"
            }
          },
          "metadata": {},
          "execution_count": 3
        }
      ],
      "source": [
        "x, y = load_veterans_lung_cancer()\n",
        "x2 = OneHotEncoder().fit_transform(x)\n",
        "x"
      ]
    },
    {
      "cell_type": "code",
      "execution_count": null,
      "id": "bc364bab-3642-4569-b5f0-f00b55d469ae",
      "metadata": {
        "colab": {
          "base_uri": "https://localhost:8080/",
          "height": 163
        },
        "id": "bc364bab-3642-4569-b5f0-f00b55d469ae",
        "outputId": "a722928e-040a-40f4-e035-bd020f81ba9d"
      },
      "outputs": [
        {
          "output_type": "execute_result",
          "data": {
            "text/plain": [
              "                       count       mean        std   min   25%   50%   75%  \\\n",
              "Age_in_years           137.0  58.306569  10.541628  34.0  51.0  62.0  66.0   \n",
              "Karnofsky_score        137.0  58.569343  20.039592  10.0  40.0  60.0  75.0   \n",
              "Months_from_Diagnosis  137.0   8.773723  10.612141   1.0   3.0   5.0  11.0   \n",
              "\n",
              "                        max  \n",
              "Age_in_years           81.0  \n",
              "Karnofsky_score        99.0  \n",
              "Months_from_Diagnosis  87.0  "
            ],
            "text/html": [
              "\n",
              "  <div id=\"df-cb173ee2-7fcb-481e-8010-ce50d14d0bd0\" class=\"colab-df-container\">\n",
              "    <div>\n",
              "<style scoped>\n",
              "    .dataframe tbody tr th:only-of-type {\n",
              "        vertical-align: middle;\n",
              "    }\n",
              "\n",
              "    .dataframe tbody tr th {\n",
              "        vertical-align: top;\n",
              "    }\n",
              "\n",
              "    .dataframe thead th {\n",
              "        text-align: right;\n",
              "    }\n",
              "</style>\n",
              "<table border=\"1\" class=\"dataframe\">\n",
              "  <thead>\n",
              "    <tr style=\"text-align: right;\">\n",
              "      <th></th>\n",
              "      <th>count</th>\n",
              "      <th>mean</th>\n",
              "      <th>std</th>\n",
              "      <th>min</th>\n",
              "      <th>25%</th>\n",
              "      <th>50%</th>\n",
              "      <th>75%</th>\n",
              "      <th>max</th>\n",
              "    </tr>\n",
              "  </thead>\n",
              "  <tbody>\n",
              "    <tr>\n",
              "      <th>Age_in_years</th>\n",
              "      <td>137.0</td>\n",
              "      <td>58.306569</td>\n",
              "      <td>10.541628</td>\n",
              "      <td>34.0</td>\n",
              "      <td>51.0</td>\n",
              "      <td>62.0</td>\n",
              "      <td>66.0</td>\n",
              "      <td>81.0</td>\n",
              "    </tr>\n",
              "    <tr>\n",
              "      <th>Karnofsky_score</th>\n",
              "      <td>137.0</td>\n",
              "      <td>58.569343</td>\n",
              "      <td>20.039592</td>\n",
              "      <td>10.0</td>\n",
              "      <td>40.0</td>\n",
              "      <td>60.0</td>\n",
              "      <td>75.0</td>\n",
              "      <td>99.0</td>\n",
              "    </tr>\n",
              "    <tr>\n",
              "      <th>Months_from_Diagnosis</th>\n",
              "      <td>137.0</td>\n",
              "      <td>8.773723</td>\n",
              "      <td>10.612141</td>\n",
              "      <td>1.0</td>\n",
              "      <td>3.0</td>\n",
              "      <td>5.0</td>\n",
              "      <td>11.0</td>\n",
              "      <td>87.0</td>\n",
              "    </tr>\n",
              "  </tbody>\n",
              "</table>\n",
              "</div>\n",
              "    <div class=\"colab-df-buttons\">\n",
              "\n",
              "  <div class=\"colab-df-container\">\n",
              "    <button class=\"colab-df-convert\" onclick=\"convertToInteractive('df-cb173ee2-7fcb-481e-8010-ce50d14d0bd0')\"\n",
              "            title=\"Convert this dataframe to an interactive table.\"\n",
              "            style=\"display:none;\">\n",
              "\n",
              "  <svg xmlns=\"http://www.w3.org/2000/svg\" height=\"24px\" viewBox=\"0 -960 960 960\">\n",
              "    <path d=\"M120-120v-720h720v720H120Zm60-500h600v-160H180v160Zm220 220h160v-160H400v160Zm0 220h160v-160H400v160ZM180-400h160v-160H180v160Zm440 0h160v-160H620v160ZM180-180h160v-160H180v160Zm440 0h160v-160H620v160Z\"/>\n",
              "  </svg>\n",
              "    </button>\n",
              "\n",
              "  <style>\n",
              "    .colab-df-container {\n",
              "      display:flex;\n",
              "      gap: 12px;\n",
              "    }\n",
              "\n",
              "    .colab-df-convert {\n",
              "      background-color: #E8F0FE;\n",
              "      border: none;\n",
              "      border-radius: 50%;\n",
              "      cursor: pointer;\n",
              "      display: none;\n",
              "      fill: #1967D2;\n",
              "      height: 32px;\n",
              "      padding: 0 0 0 0;\n",
              "      width: 32px;\n",
              "    }\n",
              "\n",
              "    .colab-df-convert:hover {\n",
              "      background-color: #E2EBFA;\n",
              "      box-shadow: 0px 1px 2px rgba(60, 64, 67, 0.3), 0px 1px 3px 1px rgba(60, 64, 67, 0.15);\n",
              "      fill: #174EA6;\n",
              "    }\n",
              "\n",
              "    .colab-df-buttons div {\n",
              "      margin-bottom: 4px;\n",
              "    }\n",
              "\n",
              "    [theme=dark] .colab-df-convert {\n",
              "      background-color: #3B4455;\n",
              "      fill: #D2E3FC;\n",
              "    }\n",
              "\n",
              "    [theme=dark] .colab-df-convert:hover {\n",
              "      background-color: #434B5C;\n",
              "      box-shadow: 0px 1px 3px 1px rgba(0, 0, 0, 0.15);\n",
              "      filter: drop-shadow(0px 1px 2px rgba(0, 0, 0, 0.3));\n",
              "      fill: #FFFFFF;\n",
              "    }\n",
              "  </style>\n",
              "\n",
              "    <script>\n",
              "      const buttonEl =\n",
              "        document.querySelector('#df-cb173ee2-7fcb-481e-8010-ce50d14d0bd0 button.colab-df-convert');\n",
              "      buttonEl.style.display =\n",
              "        google.colab.kernel.accessAllowed ? 'block' : 'none';\n",
              "\n",
              "      async function convertToInteractive(key) {\n",
              "        const element = document.querySelector('#df-cb173ee2-7fcb-481e-8010-ce50d14d0bd0');\n",
              "        const dataTable =\n",
              "          await google.colab.kernel.invokeFunction('convertToInteractive',\n",
              "                                                    [key], {});\n",
              "        if (!dataTable) return;\n",
              "\n",
              "        const docLinkHtml = 'Like what you see? Visit the ' +\n",
              "          '<a target=\"_blank\" href=https://colab.research.google.com/notebooks/data_table.ipynb>data table notebook</a>'\n",
              "          + ' to learn more about interactive tables.';\n",
              "        element.innerHTML = '';\n",
              "        dataTable['output_type'] = 'display_data';\n",
              "        await google.colab.output.renderOutput(dataTable, element);\n",
              "        const docLink = document.createElement('div');\n",
              "        docLink.innerHTML = docLinkHtml;\n",
              "        element.appendChild(docLink);\n",
              "      }\n",
              "    </script>\n",
              "  </div>\n",
              "\n",
              "\n",
              "<div id=\"df-78ab7dc6-6515-4426-ab23-dc4e3f360c36\">\n",
              "  <button class=\"colab-df-quickchart\" onclick=\"quickchart('df-78ab7dc6-6515-4426-ab23-dc4e3f360c36')\"\n",
              "            title=\"Suggest charts\"\n",
              "            style=\"display:none;\">\n",
              "\n",
              "<svg xmlns=\"http://www.w3.org/2000/svg\" height=\"24px\"viewBox=\"0 0 24 24\"\n",
              "     width=\"24px\">\n",
              "    <g>\n",
              "        <path d=\"M19 3H5c-1.1 0-2 .9-2 2v14c0 1.1.9 2 2 2h14c1.1 0 2-.9 2-2V5c0-1.1-.9-2-2-2zM9 17H7v-7h2v7zm4 0h-2V7h2v10zm4 0h-2v-4h2v4z\"/>\n",
              "    </g>\n",
              "</svg>\n",
              "  </button>\n",
              "\n",
              "<style>\n",
              "  .colab-df-quickchart {\n",
              "      --bg-color: #E8F0FE;\n",
              "      --fill-color: #1967D2;\n",
              "      --hover-bg-color: #E2EBFA;\n",
              "      --hover-fill-color: #174EA6;\n",
              "      --disabled-fill-color: #AAA;\n",
              "      --disabled-bg-color: #DDD;\n",
              "  }\n",
              "\n",
              "  [theme=dark] .colab-df-quickchart {\n",
              "      --bg-color: #3B4455;\n",
              "      --fill-color: #D2E3FC;\n",
              "      --hover-bg-color: #434B5C;\n",
              "      --hover-fill-color: #FFFFFF;\n",
              "      --disabled-bg-color: #3B4455;\n",
              "      --disabled-fill-color: #666;\n",
              "  }\n",
              "\n",
              "  .colab-df-quickchart {\n",
              "    background-color: var(--bg-color);\n",
              "    border: none;\n",
              "    border-radius: 50%;\n",
              "    cursor: pointer;\n",
              "    display: none;\n",
              "    fill: var(--fill-color);\n",
              "    height: 32px;\n",
              "    padding: 0;\n",
              "    width: 32px;\n",
              "  }\n",
              "\n",
              "  .colab-df-quickchart:hover {\n",
              "    background-color: var(--hover-bg-color);\n",
              "    box-shadow: 0 1px 2px rgba(60, 64, 67, 0.3), 0 1px 3px 1px rgba(60, 64, 67, 0.15);\n",
              "    fill: var(--button-hover-fill-color);\n",
              "  }\n",
              "\n",
              "  .colab-df-quickchart-complete:disabled,\n",
              "  .colab-df-quickchart-complete:disabled:hover {\n",
              "    background-color: var(--disabled-bg-color);\n",
              "    fill: var(--disabled-fill-color);\n",
              "    box-shadow: none;\n",
              "  }\n",
              "\n",
              "  .colab-df-spinner {\n",
              "    border: 2px solid var(--fill-color);\n",
              "    border-color: transparent;\n",
              "    border-bottom-color: var(--fill-color);\n",
              "    animation:\n",
              "      spin 1s steps(1) infinite;\n",
              "  }\n",
              "\n",
              "  @keyframes spin {\n",
              "    0% {\n",
              "      border-color: transparent;\n",
              "      border-bottom-color: var(--fill-color);\n",
              "      border-left-color: var(--fill-color);\n",
              "    }\n",
              "    20% {\n",
              "      border-color: transparent;\n",
              "      border-left-color: var(--fill-color);\n",
              "      border-top-color: var(--fill-color);\n",
              "    }\n",
              "    30% {\n",
              "      border-color: transparent;\n",
              "      border-left-color: var(--fill-color);\n",
              "      border-top-color: var(--fill-color);\n",
              "      border-right-color: var(--fill-color);\n",
              "    }\n",
              "    40% {\n",
              "      border-color: transparent;\n",
              "      border-right-color: var(--fill-color);\n",
              "      border-top-color: var(--fill-color);\n",
              "    }\n",
              "    60% {\n",
              "      border-color: transparent;\n",
              "      border-right-color: var(--fill-color);\n",
              "    }\n",
              "    80% {\n",
              "      border-color: transparent;\n",
              "      border-right-color: var(--fill-color);\n",
              "      border-bottom-color: var(--fill-color);\n",
              "    }\n",
              "    90% {\n",
              "      border-color: transparent;\n",
              "      border-bottom-color: var(--fill-color);\n",
              "    }\n",
              "  }\n",
              "</style>\n",
              "\n",
              "  <script>\n",
              "    async function quickchart(key) {\n",
              "      const quickchartButtonEl =\n",
              "        document.querySelector('#' + key + ' button');\n",
              "      quickchartButtonEl.disabled = true;  // To prevent multiple clicks.\n",
              "      quickchartButtonEl.classList.add('colab-df-spinner');\n",
              "      try {\n",
              "        const charts = await google.colab.kernel.invokeFunction(\n",
              "            'suggestCharts', [key], {});\n",
              "      } catch (error) {\n",
              "        console.error('Error during call to suggestCharts:', error);\n",
              "      }\n",
              "      quickchartButtonEl.classList.remove('colab-df-spinner');\n",
              "      quickchartButtonEl.classList.add('colab-df-quickchart-complete');\n",
              "    }\n",
              "    (() => {\n",
              "      let quickchartButtonEl =\n",
              "        document.querySelector('#df-78ab7dc6-6515-4426-ab23-dc4e3f360c36 button');\n",
              "      quickchartButtonEl.style.display =\n",
              "        google.colab.kernel.accessAllowed ? 'block' : 'none';\n",
              "    })();\n",
              "  </script>\n",
              "</div>\n",
              "\n",
              "    </div>\n",
              "  </div>\n"
            ],
            "application/vnd.google.colaboratory.intrinsic+json": {
              "type": "dataframe",
              "summary": "{\n  \"name\": \"x\",\n  \"rows\": 3,\n  \"fields\": [\n    {\n      \"column\": \"count\",\n      \"properties\": {\n        \"dtype\": \"number\",\n        \"std\": 0.0,\n        \"min\": 137.0,\n        \"max\": 137.0,\n        \"num_unique_values\": 1,\n        \"samples\": [\n          137.0\n        ],\n        \"semantic_type\": \"\",\n        \"description\": \"\"\n      }\n    },\n    {\n      \"column\": \"mean\",\n      \"properties\": {\n        \"dtype\": \"number\",\n        \"std\": 28.673959639815273,\n        \"min\": 8.773722627737227,\n        \"max\": 58.56934306569343,\n        \"num_unique_values\": 3,\n        \"samples\": [\n          58.306569343065696\n        ],\n        \"semantic_type\": \"\",\n        \"description\": \"\"\n      }\n    },\n    {\n      \"column\": \"std\",\n      \"properties\": {\n        \"dtype\": \"number\",\n        \"std\": 5.463410301210703,\n        \"min\": 10.541627597708011,\n        \"max\": 20.039591555526336,\n        \"num_unique_values\": 3,\n        \"samples\": [\n          10.541627597708011\n        ],\n        \"semantic_type\": \"\",\n        \"description\": \"\"\n      }\n    },\n    {\n      \"column\": \"min\",\n      \"properties\": {\n        \"dtype\": \"number\",\n        \"std\": 17.05872210923198,\n        \"min\": 1.0,\n        \"max\": 34.0,\n        \"num_unique_values\": 3,\n        \"samples\": [\n          34.0\n        ],\n        \"semantic_type\": \"\",\n        \"description\": \"\"\n      }\n    },\n    {\n      \"column\": \"25%\",\n      \"properties\": {\n        \"dtype\": \"number\",\n        \"std\": 25.146238950056397,\n        \"min\": 3.0,\n        \"max\": 51.0,\n        \"num_unique_values\": 3,\n        \"samples\": [\n          51.0\n        ],\n        \"semantic_type\": \"\",\n        \"description\": \"\"\n      }\n    },\n    {\n      \"column\": \"50%\",\n      \"properties\": {\n        \"dtype\": \"number\",\n        \"std\": 32.34707611722168,\n        \"min\": 5.0,\n        \"max\": 62.0,\n        \"num_unique_values\": 3,\n        \"samples\": [\n          62.0\n        ],\n        \"semantic_type\": \"\",\n        \"description\": \"\"\n      }\n    },\n    {\n      \"column\": \"75%\",\n      \"properties\": {\n        \"dtype\": \"number\",\n        \"std\": 34.64582706955245,\n        \"min\": 11.0,\n        \"max\": 75.0,\n        \"num_unique_values\": 3,\n        \"samples\": [\n          66.0\n        ],\n        \"semantic_type\": \"\",\n        \"description\": \"\"\n      }\n    },\n    {\n      \"column\": \"max\",\n      \"properties\": {\n        \"dtype\": \"number\",\n        \"std\": 9.16515138991168,\n        \"min\": 81.0,\n        \"max\": 99.0,\n        \"num_unique_values\": 3,\n        \"samples\": [\n          81.0\n        ],\n        \"semantic_type\": \"\",\n        \"description\": \"\"\n      }\n    }\n  ]\n}"
            }
          },
          "metadata": {},
          "execution_count": 4
        }
      ],
      "source": [
        "x.describe().T"
      ]
    },
    {
      "cell_type": "code",
      "source": [
        "np.linspace(5, 81, 15)"
      ],
      "metadata": {
        "colab": {
          "base_uri": "https://localhost:8080/"
        },
        "id": "AvFsp-ByDhj7",
        "outputId": "d26c0188-cef6-4819-80c5-941dccd267ee"
      },
      "id": "AvFsp-ByDhj7",
      "execution_count": null,
      "outputs": [
        {
          "output_type": "execute_result",
          "data": {
            "text/plain": [
              "array([ 5.        , 10.42857143, 15.85714286, 21.28571429, 26.71428571,\n",
              "       32.14285714, 37.57142857, 43.        , 48.42857143, 53.85714286,\n",
              "       59.28571429, 64.71428571, 70.14285714, 75.57142857, 81.        ])"
            ]
          },
          "metadata": {},
          "execution_count": 5
        }
      ]
    },
    {
      "cell_type": "code",
      "source": [
        "np.arange(8, 184, 7)"
      ],
      "metadata": {
        "colab": {
          "base_uri": "https://localhost:8080/"
        },
        "id": "6HhDjmBoDcti",
        "outputId": "a0e373aa-5851-4ca9-c085-90d6fb08fcf3"
      },
      "id": "6HhDjmBoDcti",
      "execution_count": null,
      "outputs": [
        {
          "output_type": "execute_result",
          "data": {
            "text/plain": [
              "array([  8,  15,  22,  29,  36,  43,  50,  57,  64,  71,  78,  85,  92,\n",
              "        99, 106, 113, 120, 127, 134, 141, 148, 155, 162, 169, 176, 183])"
            ]
          },
          "metadata": {},
          "execution_count": 6
        }
      ]
    },
    {
      "cell_type": "markdown",
      "source": [],
      "metadata": {
        "id": "s-1yi-CychwW"
      },
      "id": "s-1yi-CychwW"
    },
    {
      "cell_type": "code",
      "execution_count": null,
      "id": "bd0a493b-097e-44bd-86e8-cab684ca0049",
      "metadata": {
        "colab": {
          "base_uri": "https://localhost:8080/"
        },
        "id": "bd0a493b-097e-44bd-86e8-cab684ca0049",
        "outputId": "7ad272cb-690d-4871-aba1-427a28d9685c"
      },
      "outputs": [
        {
          "output_type": "execute_result",
          "data": {
            "text/plain": [
              "array([( True,  72.), ( True, 411.), ( True, 228.), ( True, 126.),\n",
              "       ( True, 118.), ( True,  10.), ( True,  82.), ( True, 110.),\n",
              "       ( True, 314.), (False, 100.), ( True,  42.), ( True,   8.),\n",
              "       ( True, 144.), (False,  25.), ( True,  11.), ( True,  30.),\n",
              "       ( True, 384.), ( True,   4.), ( True,  54.), ( True,  13.),\n",
              "       (False, 123.), (False,  97.), ( True, 153.), ( True,  59.),\n",
              "       ( True, 117.), ( True,  16.), ( True, 151.), ( True,  22.),\n",
              "       ( True,  56.), ( True,  21.), ( True,  18.), ( True, 139.),\n",
              "       ( True,  20.), ( True,  31.), ( True,  52.), ( True, 287.),\n",
              "       ( True,  18.), ( True,  51.), ( True, 122.), ( True,  27.),\n",
              "       ( True,  54.), ( True,   7.), ( True,  63.), ( True, 392.),\n",
              "       ( True,  10.), ( True,   8.), ( True,  92.), ( True,  35.),\n",
              "       ( True, 117.), ( True, 132.), ( True,  12.), ( True, 162.),\n",
              "       ( True,   3.), ( True,  95.), ( True, 177.), ( True, 162.),\n",
              "       ( True, 216.), ( True, 553.), ( True, 278.), ( True,  12.),\n",
              "       ( True, 260.), ( True, 200.), ( True, 156.), (False, 182.),\n",
              "       ( True, 143.), ( True, 105.), ( True, 103.), ( True, 250.),\n",
              "       ( True, 100.), ( True, 999.), ( True, 112.), (False,  87.),\n",
              "       (False, 231.), ( True, 242.), ( True, 991.), ( True, 111.),\n",
              "       ( True,   1.), ( True, 587.), ( True, 389.), ( True,  33.),\n",
              "       ( True,  25.), ( True, 357.), ( True, 467.), ( True, 201.),\n",
              "       ( True,   1.), ( True,  30.), ( True,  44.), ( True, 283.),\n",
              "       ( True,  15.), ( True,  25.), (False, 103.), ( True,  21.),\n",
              "       ( True,  13.), ( True,  87.), ( True,   2.), ( True,  20.),\n",
              "       ( True,   7.), ( True,  24.), ( True,  99.), ( True,   8.),\n",
              "       ( True,  99.), ( True,  61.), ( True,  25.), ( True,  95.),\n",
              "       ( True,  80.), ( True,  51.), ( True,  29.), ( True,  24.),\n",
              "       ( True,  18.), (False,  83.), ( True,  31.), ( True,  51.),\n",
              "       ( True,  90.), ( True,  52.), ( True,  73.), ( True,   8.),\n",
              "       ( True,  36.), ( True,  48.), ( True,   7.), ( True, 140.),\n",
              "       ( True, 186.), ( True,  84.), ( True,  19.), ( True,  45.),\n",
              "       ( True,  80.), ( True,  52.), ( True, 164.), ( True,  19.),\n",
              "       ( True,  53.), ( True,  15.), ( True,  43.), ( True, 340.),\n",
              "       ( True, 133.), ( True, 111.), ( True, 231.), ( True, 378.),\n",
              "       ( True,  49.)],\n",
              "      dtype=[('Status', '?'), ('Survival_in_days', '<f8')])"
            ]
          },
          "metadata": {},
          "execution_count": 7
        }
      ],
      "source": [
        "y"
      ]
    },
    {
      "cell_type": "code",
      "execution_count": null,
      "id": "a2a0dc3e-51bd-4e1a-82f3-7268b27a6a61",
      "metadata": {
        "colab": {
          "base_uri": "https://localhost:8080/",
          "height": 444
        },
        "id": "a2a0dc3e-51bd-4e1a-82f3-7268b27a6a61",
        "outputId": "7579bb11-7c5d-47b0-852d-ce57d21fd7c7"
      },
      "outputs": [
        {
          "output_type": "execute_result",
          "data": {
            "text/plain": [
              "     Status  Survival_in_days\n",
              "0      True              72.0\n",
              "1      True             411.0\n",
              "2      True             228.0\n",
              "3      True             126.0\n",
              "4      True             118.0\n",
              "..      ...               ...\n",
              "132    True             133.0\n",
              "133    True             111.0\n",
              "134    True             231.0\n",
              "135    True             378.0\n",
              "136    True              49.0\n",
              "\n",
              "[137 rows x 2 columns]"
            ],
            "text/html": [
              "\n",
              "  <div id=\"df-d232f849-9744-4c2d-ac53-0824a8a46b5e\" class=\"colab-df-container\">\n",
              "    <div>\n",
              "<style scoped>\n",
              "    .dataframe tbody tr th:only-of-type {\n",
              "        vertical-align: middle;\n",
              "    }\n",
              "\n",
              "    .dataframe tbody tr th {\n",
              "        vertical-align: top;\n",
              "    }\n",
              "\n",
              "    .dataframe thead th {\n",
              "        text-align: right;\n",
              "    }\n",
              "</style>\n",
              "<table border=\"1\" class=\"dataframe\">\n",
              "  <thead>\n",
              "    <tr style=\"text-align: right;\">\n",
              "      <th></th>\n",
              "      <th>Status</th>\n",
              "      <th>Survival_in_days</th>\n",
              "    </tr>\n",
              "  </thead>\n",
              "  <tbody>\n",
              "    <tr>\n",
              "      <th>0</th>\n",
              "      <td>True</td>\n",
              "      <td>72.0</td>\n",
              "    </tr>\n",
              "    <tr>\n",
              "      <th>1</th>\n",
              "      <td>True</td>\n",
              "      <td>411.0</td>\n",
              "    </tr>\n",
              "    <tr>\n",
              "      <th>2</th>\n",
              "      <td>True</td>\n",
              "      <td>228.0</td>\n",
              "    </tr>\n",
              "    <tr>\n",
              "      <th>3</th>\n",
              "      <td>True</td>\n",
              "      <td>126.0</td>\n",
              "    </tr>\n",
              "    <tr>\n",
              "      <th>4</th>\n",
              "      <td>True</td>\n",
              "      <td>118.0</td>\n",
              "    </tr>\n",
              "    <tr>\n",
              "      <th>...</th>\n",
              "      <td>...</td>\n",
              "      <td>...</td>\n",
              "    </tr>\n",
              "    <tr>\n",
              "      <th>132</th>\n",
              "      <td>True</td>\n",
              "      <td>133.0</td>\n",
              "    </tr>\n",
              "    <tr>\n",
              "      <th>133</th>\n",
              "      <td>True</td>\n",
              "      <td>111.0</td>\n",
              "    </tr>\n",
              "    <tr>\n",
              "      <th>134</th>\n",
              "      <td>True</td>\n",
              "      <td>231.0</td>\n",
              "    </tr>\n",
              "    <tr>\n",
              "      <th>135</th>\n",
              "      <td>True</td>\n",
              "      <td>378.0</td>\n",
              "    </tr>\n",
              "    <tr>\n",
              "      <th>136</th>\n",
              "      <td>True</td>\n",
              "      <td>49.0</td>\n",
              "    </tr>\n",
              "  </tbody>\n",
              "</table>\n",
              "<p>137 rows × 2 columns</p>\n",
              "</div>\n",
              "    <div class=\"colab-df-buttons\">\n",
              "\n",
              "  <div class=\"colab-df-container\">\n",
              "    <button class=\"colab-df-convert\" onclick=\"convertToInteractive('df-d232f849-9744-4c2d-ac53-0824a8a46b5e')\"\n",
              "            title=\"Convert this dataframe to an interactive table.\"\n",
              "            style=\"display:none;\">\n",
              "\n",
              "  <svg xmlns=\"http://www.w3.org/2000/svg\" height=\"24px\" viewBox=\"0 -960 960 960\">\n",
              "    <path d=\"M120-120v-720h720v720H120Zm60-500h600v-160H180v160Zm220 220h160v-160H400v160Zm0 220h160v-160H400v160ZM180-400h160v-160H180v160Zm440 0h160v-160H620v160ZM180-180h160v-160H180v160Zm440 0h160v-160H620v160Z\"/>\n",
              "  </svg>\n",
              "    </button>\n",
              "\n",
              "  <style>\n",
              "    .colab-df-container {\n",
              "      display:flex;\n",
              "      gap: 12px;\n",
              "    }\n",
              "\n",
              "    .colab-df-convert {\n",
              "      background-color: #E8F0FE;\n",
              "      border: none;\n",
              "      border-radius: 50%;\n",
              "      cursor: pointer;\n",
              "      display: none;\n",
              "      fill: #1967D2;\n",
              "      height: 32px;\n",
              "      padding: 0 0 0 0;\n",
              "      width: 32px;\n",
              "    }\n",
              "\n",
              "    .colab-df-convert:hover {\n",
              "      background-color: #E2EBFA;\n",
              "      box-shadow: 0px 1px 2px rgba(60, 64, 67, 0.3), 0px 1px 3px 1px rgba(60, 64, 67, 0.15);\n",
              "      fill: #174EA6;\n",
              "    }\n",
              "\n",
              "    .colab-df-buttons div {\n",
              "      margin-bottom: 4px;\n",
              "    }\n",
              "\n",
              "    [theme=dark] .colab-df-convert {\n",
              "      background-color: #3B4455;\n",
              "      fill: #D2E3FC;\n",
              "    }\n",
              "\n",
              "    [theme=dark] .colab-df-convert:hover {\n",
              "      background-color: #434B5C;\n",
              "      box-shadow: 0px 1px 3px 1px rgba(0, 0, 0, 0.15);\n",
              "      filter: drop-shadow(0px 1px 2px rgba(0, 0, 0, 0.3));\n",
              "      fill: #FFFFFF;\n",
              "    }\n",
              "  </style>\n",
              "\n",
              "    <script>\n",
              "      const buttonEl =\n",
              "        document.querySelector('#df-d232f849-9744-4c2d-ac53-0824a8a46b5e button.colab-df-convert');\n",
              "      buttonEl.style.display =\n",
              "        google.colab.kernel.accessAllowed ? 'block' : 'none';\n",
              "\n",
              "      async function convertToInteractive(key) {\n",
              "        const element = document.querySelector('#df-d232f849-9744-4c2d-ac53-0824a8a46b5e');\n",
              "        const dataTable =\n",
              "          await google.colab.kernel.invokeFunction('convertToInteractive',\n",
              "                                                    [key], {});\n",
              "        if (!dataTable) return;\n",
              "\n",
              "        const docLinkHtml = 'Like what you see? Visit the ' +\n",
              "          '<a target=\"_blank\" href=https://colab.research.google.com/notebooks/data_table.ipynb>data table notebook</a>'\n",
              "          + ' to learn more about interactive tables.';\n",
              "        element.innerHTML = '';\n",
              "        dataTable['output_type'] = 'display_data';\n",
              "        await google.colab.output.renderOutput(dataTable, element);\n",
              "        const docLink = document.createElement('div');\n",
              "        docLink.innerHTML = docLinkHtml;\n",
              "        element.appendChild(docLink);\n",
              "      }\n",
              "    </script>\n",
              "  </div>\n",
              "\n",
              "\n",
              "<div id=\"df-31ca5638-5ff5-4566-a41c-2afbf7d8a693\">\n",
              "  <button class=\"colab-df-quickchart\" onclick=\"quickchart('df-31ca5638-5ff5-4566-a41c-2afbf7d8a693')\"\n",
              "            title=\"Suggest charts\"\n",
              "            style=\"display:none;\">\n",
              "\n",
              "<svg xmlns=\"http://www.w3.org/2000/svg\" height=\"24px\"viewBox=\"0 0 24 24\"\n",
              "     width=\"24px\">\n",
              "    <g>\n",
              "        <path d=\"M19 3H5c-1.1 0-2 .9-2 2v14c0 1.1.9 2 2 2h14c1.1 0 2-.9 2-2V5c0-1.1-.9-2-2-2zM9 17H7v-7h2v7zm4 0h-2V7h2v10zm4 0h-2v-4h2v4z\"/>\n",
              "    </g>\n",
              "</svg>\n",
              "  </button>\n",
              "\n",
              "<style>\n",
              "  .colab-df-quickchart {\n",
              "      --bg-color: #E8F0FE;\n",
              "      --fill-color: #1967D2;\n",
              "      --hover-bg-color: #E2EBFA;\n",
              "      --hover-fill-color: #174EA6;\n",
              "      --disabled-fill-color: #AAA;\n",
              "      --disabled-bg-color: #DDD;\n",
              "  }\n",
              "\n",
              "  [theme=dark] .colab-df-quickchart {\n",
              "      --bg-color: #3B4455;\n",
              "      --fill-color: #D2E3FC;\n",
              "      --hover-bg-color: #434B5C;\n",
              "      --hover-fill-color: #FFFFFF;\n",
              "      --disabled-bg-color: #3B4455;\n",
              "      --disabled-fill-color: #666;\n",
              "  }\n",
              "\n",
              "  .colab-df-quickchart {\n",
              "    background-color: var(--bg-color);\n",
              "    border: none;\n",
              "    border-radius: 50%;\n",
              "    cursor: pointer;\n",
              "    display: none;\n",
              "    fill: var(--fill-color);\n",
              "    height: 32px;\n",
              "    padding: 0;\n",
              "    width: 32px;\n",
              "  }\n",
              "\n",
              "  .colab-df-quickchart:hover {\n",
              "    background-color: var(--hover-bg-color);\n",
              "    box-shadow: 0 1px 2px rgba(60, 64, 67, 0.3), 0 1px 3px 1px rgba(60, 64, 67, 0.15);\n",
              "    fill: var(--button-hover-fill-color);\n",
              "  }\n",
              "\n",
              "  .colab-df-quickchart-complete:disabled,\n",
              "  .colab-df-quickchart-complete:disabled:hover {\n",
              "    background-color: var(--disabled-bg-color);\n",
              "    fill: var(--disabled-fill-color);\n",
              "    box-shadow: none;\n",
              "  }\n",
              "\n",
              "  .colab-df-spinner {\n",
              "    border: 2px solid var(--fill-color);\n",
              "    border-color: transparent;\n",
              "    border-bottom-color: var(--fill-color);\n",
              "    animation:\n",
              "      spin 1s steps(1) infinite;\n",
              "  }\n",
              "\n",
              "  @keyframes spin {\n",
              "    0% {\n",
              "      border-color: transparent;\n",
              "      border-bottom-color: var(--fill-color);\n",
              "      border-left-color: var(--fill-color);\n",
              "    }\n",
              "    20% {\n",
              "      border-color: transparent;\n",
              "      border-left-color: var(--fill-color);\n",
              "      border-top-color: var(--fill-color);\n",
              "    }\n",
              "    30% {\n",
              "      border-color: transparent;\n",
              "      border-left-color: var(--fill-color);\n",
              "      border-top-color: var(--fill-color);\n",
              "      border-right-color: var(--fill-color);\n",
              "    }\n",
              "    40% {\n",
              "      border-color: transparent;\n",
              "      border-right-color: var(--fill-color);\n",
              "      border-top-color: var(--fill-color);\n",
              "    }\n",
              "    60% {\n",
              "      border-color: transparent;\n",
              "      border-right-color: var(--fill-color);\n",
              "    }\n",
              "    80% {\n",
              "      border-color: transparent;\n",
              "      border-right-color: var(--fill-color);\n",
              "      border-bottom-color: var(--fill-color);\n",
              "    }\n",
              "    90% {\n",
              "      border-color: transparent;\n",
              "      border-bottom-color: var(--fill-color);\n",
              "    }\n",
              "  }\n",
              "</style>\n",
              "\n",
              "  <script>\n",
              "    async function quickchart(key) {\n",
              "      const quickchartButtonEl =\n",
              "        document.querySelector('#' + key + ' button');\n",
              "      quickchartButtonEl.disabled = true;  // To prevent multiple clicks.\n",
              "      quickchartButtonEl.classList.add('colab-df-spinner');\n",
              "      try {\n",
              "        const charts = await google.colab.kernel.invokeFunction(\n",
              "            'suggestCharts', [key], {});\n",
              "      } catch (error) {\n",
              "        console.error('Error during call to suggestCharts:', error);\n",
              "      }\n",
              "      quickchartButtonEl.classList.remove('colab-df-spinner');\n",
              "      quickchartButtonEl.classList.add('colab-df-quickchart-complete');\n",
              "    }\n",
              "    (() => {\n",
              "      let quickchartButtonEl =\n",
              "        document.querySelector('#df-31ca5638-5ff5-4566-a41c-2afbf7d8a693 button');\n",
              "      quickchartButtonEl.style.display =\n",
              "        google.colab.kernel.accessAllowed ? 'block' : 'none';\n",
              "    })();\n",
              "  </script>\n",
              "</div>\n",
              "\n",
              "    </div>\n",
              "  </div>\n"
            ],
            "application/vnd.google.colaboratory.intrinsic+json": {
              "type": "dataframe",
              "summary": "{\n  \"name\": \"pd\",\n  \"rows\": 137,\n  \"fields\": [\n    {\n      \"column\": \"Status\",\n      \"properties\": {\n        \"dtype\": \"boolean\",\n        \"num_unique_values\": 2,\n        \"samples\": [\n          false,\n          true\n        ],\n        \"semantic_type\": \"\",\n        \"description\": \"\"\n      }\n    },\n    {\n      \"column\": \"Survival_in_days\",\n      \"properties\": {\n        \"dtype\": \"number\",\n        \"std\": 157.81672203667466,\n        \"min\": 1.0,\n        \"max\": 999.0,\n        \"num_unique_values\": 101,\n        \"samples\": [\n          83.0,\n          156.0\n        ],\n        \"semantic_type\": \"\",\n        \"description\": \"\"\n      }\n    }\n  ]\n}"
            }
          },
          "metadata": {},
          "execution_count": 8
        }
      ],
      "source": [
        "pd.DataFrame.from_records(y)"
      ]
    },
    {
      "cell_type": "code",
      "execution_count": null,
      "id": "9ccf9a83-75a0-4106-826f-358b8bc8081f",
      "metadata": {
        "id": "9ccf9a83-75a0-4106-826f-358b8bc8081f"
      },
      "outputs": [],
      "source": [
        "# mod = CoxPHSurvivalAnalysis().fit(x2, y)\n",
        "#pd.Series(mod.coef_, index=x2.columns)"
      ]
    },
    {
      "cell_type": "code",
      "execution_count": null,
      "id": "474258ef-065a-469f-ac66-81cf34e25d15",
      "metadata": {
        "id": "474258ef-065a-469f-ac66-81cf34e25d15"
      },
      "outputs": [],
      "source": [
        "# mod.score(x2, y)"
      ]
    },
    {
      "cell_type": "code",
      "source": [
        "X, y = load_whas500()\n",
        "y"
      ],
      "metadata": {
        "colab": {
          "base_uri": "https://localhost:8080/"
        },
        "id": "bXbKbOIo2DMo",
        "outputId": "f81a848b-2c45-4832-b497-19eab78d5d96"
      },
      "id": "bXbKbOIo2DMo",
      "execution_count": null,
      "outputs": [
        {
          "output_type": "execute_result",
          "data": {
            "text/plain": [
              "array([(False, 2.178e+03), (False, 2.172e+03), (False, 2.190e+03),\n",
              "       ( True, 2.970e+02), (False, 2.131e+03), ( True, 1.000e+00),\n",
              "       (False, 2.122e+03), ( True, 1.496e+03), ( True, 9.200e+02),\n",
              "       (False, 2.175e+03), (False, 2.173e+03), ( True, 1.671e+03),\n",
              "       (False, 2.192e+03), ( True, 8.650e+02), (False, 2.166e+03),\n",
              "       (False, 2.168e+03), ( True, 9.050e+02), ( True, 2.353e+03),\n",
              "       (False, 2.146e+03), ( True, 6.100e+01), ( True, 2.358e+03),\n",
              "       (False, 2.114e+03), (False, 2.132e+03), (False, 2.139e+03),\n",
              "       (False, 2.048e+03), (False, 2.152e+03), ( True, 6.000e+00),\n",
              "       (False, 2.156e+03), ( True, 1.180e+02), (False, 2.064e+03),\n",
              "       ( True, 8.490e+02), ( True, 7.140e+02), (False, 2.057e+03),\n",
              "       ( True, 2.000e+00), ( True, 7.000e+00), (False, 2.151e+03),\n",
              "       ( True, 6.000e+00), ( True, 4.220e+02), ( True, 3.540e+02),\n",
              "       (False, 2.065e+03), (False, 2.048e+03), ( True, 1.065e+03),\n",
              "       ( True, 5.350e+02), (False, 2.118e+03), ( True, 9.700e+01),\n",
              "       (False, 2.113e+03), ( True, 1.000e+02), (False, 2.032e+03),\n",
              "       ( True, 1.317e+03), (False, 2.126e+03), (False, 2.126e+03),\n",
              "       (False, 2.123e+03), ( True, 6.700e+02), ( True, 3.430e+02),\n",
              "       ( True, 3.000e+00), (False, 2.009e+03), ( True, 6.400e+01),\n",
              "       (False, 1.994e+03), ( True, 1.579e+03), (False, 1.993e+03),\n",
              "       ( True, 2.000e+00), (False, 1.955e+03), ( True, 4.200e+01),\n",
              "       (False, 1.964e+03), ( True, 1.548e+03), ( True, 4.460e+02),\n",
              "       (False, 1.976e+03), (False, 2.009e+03), (False, 1.942e+03),\n",
              "       ( True, 1.000e+00), ( True, 1.510e+02), (False, 2.006e+03),\n",
              "       (False, 2.086e+03), (False, 1.969e+03), (False, 1.939e+03),\n",
              "       (False, 1.939e+03), (False, 1.940e+03), ( True, 1.576e+03),\n",
              "       (False, 1.941e+03), ( True, 1.970e+02), (False, 1.933e+03),\n",
              "       ( True, 9.500e+01), ( True, 2.160e+03), (False, 2.084e+03),\n",
              "       (False, 2.145e+03), (False, 2.125e+03), (False, 1.920e+03),\n",
              "       ( True, 4.000e+00), ( True, 1.553e+03), ( True, 2.350e+02),\n",
              "       ( True, 1.920e+02), ( True, 1.233e+03), ( True, 8.800e+01),\n",
              "       ( True, 1.954e+03), ( True, 9.030e+02), ( True, 6.120e+02),\n",
              "       (False, 2.025e+03), ( True, 2.000e+00), ( True, 7.000e+00),\n",
              "       (False, 1.887e+03), ( True, 1.870e+02), ( True, 1.010e+02),\n",
              "       (False, 1.885e+03), ( True, 9.360e+02), ( True, 3.630e+02),\n",
              "       ( True, 1.048e+03), (False, 1.977e+03), (False, 1.936e+03),\n",
              "       (False, 1.887e+03), (False, 1.889e+03), (False, 1.923e+03),\n",
              "       (False, 2.123e+03), ( True, 1.100e+01), (False, 2.100e+03),\n",
              "       (False, 1.914e+03), (False, 1.883e+03), ( True, 3.300e+01),\n",
              "       (False, 1.931e+03), ( True, 1.506e+03), (False, 1.858e+03),\n",
              "       ( True, 6.000e+00), (False, 1.854e+03), (False, 1.847e+03),\n",
              "       (False, 1.858e+03), ( True, 1.870e+02), ( True, 4.600e+01),\n",
              "       (False, 2.061e+03), (False, 1.893e+03), (False, 2.108e+03),\n",
              "       ( True, 8.300e+01), ( True, 3.300e+01), ( True, 1.377e+03),\n",
              "       (False, 1.863e+03), (False, 1.880e+03), ( True, 1.359e+03),\n",
              "       (False, 1.831e+03), (False, 1.836e+03), ( True, 1.159e+03),\n",
              "       ( True, 1.130e+02), ( True, 1.217e+03), (False, 1.899e+03),\n",
              "       (False, 1.934e+03), ( True, 1.527e+03), (False, 1.954e+03),\n",
              "       (False, 1.979e+03), ( True, 1.232e+03), (False, 2.066e+03),\n",
              "       ( True, 1.624e+03), ( True, 5.300e+02), ( True, 1.096e+03),\n",
              "       ( True, 3.450e+02), (False, 1.919e+03), ( True, 1.577e+03),\n",
              "       (False, 1.883e+03), (False, 1.904e+03), (False, 2.083e+03),\n",
              "       ( True, 1.460e+02), ( True, 2.350e+03), ( True, 1.926e+03),\n",
              "       (False, 2.114e+03), ( True, 7.180e+02), (False, 1.451e+03),\n",
              "       ( True, 3.580e+02), ( True, 4.650e+02), (False, 1.381e+03),\n",
              "       ( True, 1.100e+01), (False, 1.385e+03), (False, 1.346e+03),\n",
              "       (False, 1.338e+03), ( True, 1.370e+02), (False, 1.449e+03),\n",
              "       ( True, 1.700e+01), ( True, 1.536e+03), ( True, 1.627e+03),\n",
              "       ( True, 1.000e+01), ( True, 1.000e+00), ( True, 1.000e+00),\n",
              "       ( True, 3.130e+02), ( True, 1.200e+03), (False, 1.384e+03),\n",
              "       ( True, 1.660e+02), (False, 1.420e+03), ( True, 5.620e+02),\n",
              "       (False, 1.302e+03), (False, 1.253e+03), (False, 1.438e+03),\n",
              "       (False, 1.400e+03), (False, 1.329e+03), (False, 1.325e+03),\n",
              "       (False, 1.257e+03), (False, 1.319e+03), (False, 1.256e+03),\n",
              "       (False, 1.298e+03), ( True, 1.800e+01), (False, 1.408e+03),\n",
              "       (False, 1.333e+03), (False, 1.378e+03), (False, 1.353e+03),\n",
              "       ( True, 6.540e+02), (False, 1.262e+03), (False, 1.314e+03),\n",
              "       (False, 1.280e+03), (False, 1.308e+03), (False, 1.433e+03),\n",
              "       (False, 1.430e+03), ( True, 7.000e+00), ( True, 1.000e+00),\n",
              "       (False, 1.272e+03), (False, 1.277e+03), ( True, 1.080e+02),\n",
              "       ( True, 2.000e+00), (False, 1.409e+03), (False, 1.454e+03),\n",
              "       ( True, 1.090e+02), (False, 1.363e+03), (False, 1.374e+03),\n",
              "       (False, 1.365e+03), ( True, 6.000e+00), ( True, 2.000e+02),\n",
              "       (False, 1.336e+03), (False, 1.317e+03), ( True, 1.340e+02),\n",
              "       ( True, 5.700e+01), ( True, 1.165e+03), ( True, 1.400e+02),\n",
              "       ( True, 2.000e+01), ( True, 7.000e+00), (False, 1.190e+03),\n",
              "       ( True, 1.400e+02), ( True, 1.054e+03), (False, 1.108e+03),\n",
              "       (False, 1.106e+03), (False, 1.106e+03), ( True, 2.590e+02),\n",
              "       ( True, 1.000e+00), (False, 1.125e+03), (False, 1.162e+03),\n",
              "       (False, 1.140e+03), (False, 1.157e+03), (False, 1.231e+03),\n",
              "       ( True, 9.530e+02), (False, 1.248e+03), (False, 1.235e+03),\n",
              "       (False, 1.290e+03), ( True, 1.152e+03), ( True, 1.900e+01),\n",
              "       (False, 1.251e+03), ( True, 1.136e+03), (False, 1.182e+03),\n",
              "       ( True, 2.000e+00), ( True, 1.690e+02), ( True, 7.040e+02),\n",
              "       ( True, 1.430e+02), ( True, 2.000e+00), (False, 1.232e+03),\n",
              "       ( True, 4.790e+02), (False, 1.211e+03), (False, 1.232e+03),\n",
              "       (False, 1.223e+03), (False, 1.191e+03), ( True, 1.100e+01),\n",
              "       ( True, 1.000e+01), (False, 1.117e+03), ( True, 1.174e+03),\n",
              "       (False, 1.123e+03), ( True, 3.850e+02), (False, 1.109e+03),\n",
              "       (False, 1.098e+03), (False, 1.114e+03), ( True, 6.400e+01),\n",
              "       (False, 1.151e+03), ( True, 9.100e+01), ( True, 6.140e+02),\n",
              "       (False, 1.140e+03), ( True, 5.420e+02), (False, 1.199e+03),\n",
              "       (False, 1.248e+03), (False, 1.163e+03), ( True, 3.210e+02),\n",
              "       (False, 1.187e+03), (False, 1.207e+03), ( True, 2.950e+02),\n",
              "       (False, 1.273e+03), (False, 1.189e+03), (False, 1.234e+03),\n",
              "       ( True, 5.200e+01), (False, 1.203e+03), ( True, 1.290e+02),\n",
              "       ( True, 2.970e+02), (False, 1.458e+03), ( True, 1.170e+02),\n",
              "       ( True, 3.120e+02), (False, 1.244e+03), (False, 1.160e+03),\n",
              "       ( True, 2.870e+02), ( True, 1.377e+03), (False, 1.320e+03),\n",
              "       (False, 1.245e+03), ( True, 4.970e+02), ( True, 2.890e+02),\n",
              "       (False, 1.150e+03), (False, 1.266e+03), (False, 1.266e+03),\n",
              "       (False, 1.265e+03), (False, 1.126e+03), ( True, 2.600e+01),\n",
              "       ( True, 1.320e+02), ( True, 5.520e+02), (False, 1.444e+03),\n",
              "       ( True, 1.400e+01), (False, 1.454e+03), (False, 1.123e+03),\n",
              "       (False, 1.279e+03), (False, 1.366e+03), (False, 1.196e+03),\n",
              "       ( True, 1.350e+02), (False, 1.114e+03), ( True, 3.700e+01),\n",
              "       (False, 1.390e+03), ( True, 3.200e+01), (False, 1.187e+03),\n",
              "       (False, 1.224e+03), (False, 1.121e+03), ( True, 1.900e+01),\n",
              "       (False, 1.456e+03), (False, 1.332e+03), (False, 1.174e+03),\n",
              "       (False, 1.274e+03), ( True, 3.820e+02), (False, 1.295e+03),\n",
              "       (False, 1.102e+03), (False, 1.169e+03), (False, 1.136e+03),\n",
              "       (False, 1.105e+03), (False, 1.320e+03), ( True, 1.279e+03),\n",
              "       (False, 1.178e+03), (False, 1.170e+03), (False, 1.336e+03),\n",
              "       ( True, 2.200e+01), (False, 1.103e+03), (False, 1.107e+03),\n",
              "       (False, 1.347e+03), ( True, 6.320e+02), (False, 1.161e+03),\n",
              "       (False, 1.388e+03), ( True, 6.000e+00), ( True, 3.200e+01),\n",
              "       (False, 5.730e+02), (False, 5.500e+02), (False, 5.700e+02),\n",
              "       ( True, 1.600e+01), ( True, 5.000e+00), (False, 5.780e+02),\n",
              "       ( True, 1.000e+00), (False, 5.500e+02), (False, 5.890e+02),\n",
              "       (False, 5.420e+02), ( True, 2.260e+02), ( True, 8.100e+01),\n",
              "       (False, 5.500e+02), (False, 5.290e+02), (False, 5.230e+02),\n",
              "       (False, 5.220e+02), (False, 5.100e+02), (False, 5.240e+02),\n",
              "       (False, 4.800e+02), (False, 4.590e+02), ( True, 4.190e+02),\n",
              "       (False, 4.330e+02), (False, 4.450e+02), (False, 5.160e+02),\n",
              "       ( True, 3.400e+01), (False, 4.120e+02), (False, 3.980e+02),\n",
              "       (False, 3.970e+02), (False, 4.030e+02), (False, 3.860e+02),\n",
              "       (False, 3.760e+02), (False, 3.730e+02), (False, 3.710e+02),\n",
              "       (False, 6.590e+02), ( True, 2.330e+02), (False, 6.310e+02),\n",
              "       ( True, 6.000e+01), ( True, 5.370e+02), ( True, 4.730e+02),\n",
              "       (False, 6.750e+02), ( True, 6.460e+02), (False, 5.890e+02),\n",
              "       (False, 6.060e+02), ( True, 2.740e+02), ( True, 1.690e+02),\n",
              "       (False, 5.680e+02), ( True, 6.730e+02), ( True, 5.590e+02),\n",
              "       ( True, 9.300e+01), ( True, 5.500e+01), (False, 5.440e+02),\n",
              "       ( True, 6.490e+02), (False, 5.070e+02), (False, 5.210e+02),\n",
              "       ( True, 4.060e+02), (False, 5.870e+02), (False, 5.320e+02),\n",
              "       ( True, 5.300e+01), (False, 4.660e+02), (False, 4.420e+02),\n",
              "       ( True, 1.450e+02), ( True, 3.300e+01), (False, 4.510e+02),\n",
              "       (False, 4.970e+02), ( True, 1.700e+01), (False, 5.060e+02),\n",
              "       (False, 5.210e+02), ( True, 1.160e+02), ( True, 6.200e+01),\n",
              "       ( True, 2.690e+02), ( True, 1.100e+01), (False, 5.160e+02),\n",
              "       (False, 4.780e+02), ( True, 4.900e+01), (False, 4.860e+02),\n",
              "       ( True, 7.600e+01), ( True, 1.000e+00), (False, 5.110e+02),\n",
              "       (False, 4.580e+02), (False, 4.400e+02), (False, 4.520e+02),\n",
              "       ( True, 1.800e+01), ( True, 1.800e+01), ( True, 5.000e+00),\n",
              "       ( True, 2.000e+01), ( True, 3.920e+02), ( True, 6.900e+01),\n",
              "       ( True, 2.000e+00), ( True, 2.200e+01), (False, 4.260e+02),\n",
              "       (False, 4.490e+02), ( True, 7.000e+00), (False, 4.030e+02),\n",
              "       (False, 3.710e+02), (False, 3.680e+02), (False, 4.110e+02),\n",
              "       (False, 3.900e+02), ( True, 3.590e+02), (False, 4.080e+02),\n",
              "       (False, 4.070e+02), (False, 4.220e+02), (False, 3.760e+02),\n",
              "       ( True, 3.590e+02), ( True, 5.700e+01), ( True, 3.280e+02),\n",
              "       (False, 4.120e+02), ( True, 3.000e+00), (False, 4.580e+02),\n",
              "       (False, 4.180e+02), (False, 4.450e+02), (False, 4.590e+02),\n",
              "       ( True, 2.000e+00), (False, 4.240e+02), (False, 4.160e+02),\n",
              "       ( True, 3.000e+00), (False, 4.270e+02), (False, 4.450e+02),\n",
              "       (False, 4.210e+02), ( True, 4.000e+00), (False, 3.990e+02),\n",
              "       (False, 5.190e+02), (False, 6.090e+02), (False, 4.460e+02),\n",
              "       (False, 6.260e+02), (False, 4.450e+02), ( True, 1.900e+01),\n",
              "       (False, 4.500e+02), (False, 4.000e+02), (False, 4.580e+02),\n",
              "       (False, 5.350e+02), ( True, 4.420e+02), ( True, 4.050e+02),\n",
              "       (False, 4.570e+02), (False, 4.370e+02), (False, 5.510e+02),\n",
              "       (False, 3.710e+02), ( True, 4.670e+02), ( True, 6.440e+02),\n",
              "       (False, 3.860e+02), (False, 5.540e+02), (False, 5.730e+02),\n",
              "       (False, 4.750e+02), ( True, 3.970e+02), ( True, 1.400e+01),\n",
              "       ( True, 7.000e+00), ( True, 6.900e+01), ( True, 3.100e+01),\n",
              "       ( True, 1.000e+01), (False, 6.620e+02), (False, 7.250e+02),\n",
              "       (False, 5.320e+02), ( True, 2.590e+02)],\n",
              "      dtype=[('fstat', '?'), ('lenfol', '<f8')])"
            ]
          },
          "metadata": {},
          "execution_count": 11
        }
      ]
    },
    {
      "cell_type": "code",
      "source": [
        "y.dtype.fields"
      ],
      "metadata": {
        "colab": {
          "base_uri": "https://localhost:8080/"
        },
        "id": "onm0fGRSib7W",
        "outputId": "04470d87-4573-4f1f-816a-89c968852483"
      },
      "id": "onm0fGRSib7W",
      "execution_count": null,
      "outputs": [
        {
          "output_type": "execute_result",
          "data": {
            "text/plain": [
              "mappingproxy({'fstat': (dtype('bool'), 0), 'lenfol': (dtype('float64'), 1)})"
            ]
          },
          "metadata": {},
          "execution_count": 12
        }
      ]
    },
    {
      "cell_type": "code",
      "source": [
        "estimator = SurvivalTree().fit(X, y)\n",
        "surv_funcs = estimator.predict_survival_function(X.iloc[:5])"
      ],
      "metadata": {
        "id": "ZHJuIRIo3F4z"
      },
      "id": "ZHJuIRIo3F4z",
      "execution_count": null,
      "outputs": []
    },
    {
      "cell_type": "code",
      "source": [
        "for fn in surv_funcs:\n",
        "  plt.step(fn.x, fn(fn.x), where=\"post\")\n",
        "\n",
        "plt.ylim(0, 1)\n",
        "plt.show()"
      ],
      "metadata": {
        "colab": {
          "base_uri": "https://localhost:8080/",
          "height": 54
        },
        "id": "lzNOpFd_3LIt",
        "outputId": "4ebc34d7-5d28-4be3-cae9-a7e8b1261147"
      },
      "id": "lzNOpFd_3LIt",
      "execution_count": null,
      "outputs": [
        {
          "output_type": "display_data",
          "data": {
            "text/plain": [
              "<Figure size 640x480 with 1 Axes>"
            ],
            "image/png": "[encoded data removed]"
          },
          "metadata": {}
        }
      ]
    },
    {
      "cell_type": "markdown",
      "source": [
        "# Testing"
      ],
      "metadata": {
        "id": "EU5MtMpU-GLE"
      },
      "id": "EU5MtMpU-GLE"
    },
    {
      "cell_type": "code",
      "execution_count": null,
      "id": "2afd40b7-4e16-4a94-8323-58883cc5c324",
      "metadata": {
        "colab": {
          "base_uri": "https://localhost:8080/",
          "height": 424
        },
        "id": "2afd40b7-4e16-4a94-8323-58883cc5c324",
        "outputId": "b36587b0-b8bf-4b7c-ea02-f5f11e537fcb"
      },
      "outputs": [
        {
          "output_type": "execute_result",
          "data": {
            "text/plain": [
              "           Z1        Z2        Z3         Y  obs\n",
              "0    0.647689 -0.309168  1.570748  0.131850  1.0\n",
              "1   -0.234137 -0.523583  4.816243  0.015920  1.0\n",
              "2   -0.469474  1.716036  4.993909  2.853147  1.0\n",
              "3   -0.465730 -1.036233  1.715726  0.028437  1.0\n",
              "4   -1.724918 -4.278225  0.765152  0.389283  0.0\n",
              "..        ...       ...       ...       ...  ...\n",
              "995  0.093372 -0.274386 -3.035933  0.214835  1.0\n",
              "996  1.516394  5.392673 -3.574018  4.821766  0.0\n",
              "997 -0.212209  0.161079  1.904065  0.530137  1.0\n",
              "998  0.257753  0.173252 -3.010230  1.497116  0.0\n",
              "999 -0.155259  0.747241 -3.926792  0.500775  0.0\n",
              "\n",
              "[1000 rows x 5 columns]"
            ],
            "text/html": [
              "\n",
              "  <div id=\"df-f41fcc42-3567-4a29-a942-8f225d43c9f0\" class=\"colab-df-container\">\n",
              "    <div>\n",
              "<style scoped>\n",
              "    .dataframe tbody tr th:only-of-type {\n",
              "        vertical-align: middle;\n",
              "    }\n",
              "\n",
              "    .dataframe tbody tr th {\n",
              "        vertical-align: top;\n",
              "    }\n",
              "\n",
              "    .dataframe thead th {\n",
              "        text-align: right;\n",
              "    }\n",
              "</style>\n",
              "<table border=\"1\" class=\"dataframe\">\n",
              "  <thead>\n",
              "    <tr style=\"text-align: right;\">\n",
              "      <th></th>\n",
              "      <th>Z1</th>\n",
              "      <th>Z2</th>\n",
              "      <th>Z3</th>\n",
              "      <th>Y</th>\n",
              "      <th>obs</th>\n",
              "    </tr>\n",
              "  </thead>\n",
              "  <tbody>\n",
              "    <tr>\n",
              "      <th>0</th>\n",
              "      <td>0.647689</td>\n",
              "      <td>-0.309168</td>\n",
              "      <td>1.570748</td>\n",
              "      <td>0.131850</td>\n",
              "      <td>1.0</td>\n",
              "    </tr>\n",
              "    <tr>\n",
              "      <th>1</th>\n",
              "      <td>-0.234137</td>\n",
              "      <td>-0.523583</td>\n",
              "      <td>4.816243</td>\n",
              "      <td>0.015920</td>\n",
              "      <td>1.0</td>\n",
              "    </tr>\n",
              "    <tr>\n",
              "      <th>2</th>\n",
              "      <td>-0.469474</td>\n",
              "      <td>1.716036</td>\n",
              "      <td>4.993909</td>\n",
              "      <td>2.853147</td>\n",
              "      <td>1.0</td>\n",
              "    </tr>\n",
              "    <tr>\n",
              "      <th>3</th>\n",
              "      <td>-0.465730</td>\n",
              "      <td>-1.036233</td>\n",
              "      <td>1.715726</td>\n",
              "      <td>0.028437</td>\n",
              "      <td>1.0</td>\n",
              "    </tr>\n",
              "    <tr>\n",
              "      <th>4</th>\n",
              "      <td>-1.724918</td>\n",
              "      <td>-4.278225</td>\n",
              "      <td>0.765152</td>\n",
              "      <td>0.389283</td>\n",
              "      <td>0.0</td>\n",
              "    </tr>\n",
              "    <tr>\n",
              "      <th>...</th>\n",
              "      <td>...</td>\n",
              "      <td>...</td>\n",
              "      <td>...</td>\n",
              "      <td>...</td>\n",
              "      <td>...</td>\n",
              "    </tr>\n",
              "    <tr>\n",
              "      <th>995</th>\n",
              "      <td>0.093372</td>\n",
              "      <td>-0.274386</td>\n",
              "      <td>-3.035933</td>\n",
              "      <td>0.214835</td>\n",
              "      <td>1.0</td>\n",
              "    </tr>\n",
              "    <tr>\n",
              "      <th>996</th>\n",
              "      <td>1.516394</td>\n",
              "      <td>5.392673</td>\n",
              "      <td>-3.574018</td>\n",
              "      <td>4.821766</td>\n",
              "      <td>0.0</td>\n",
              "    </tr>\n",
              "    <tr>\n",
              "      <th>997</th>\n",
              "      <td>-0.212209</td>\n",
              "      <td>0.161079</td>\n",
              "      <td>1.904065</td>\n",
              "      <td>0.530137</td>\n",
              "      <td>1.0</td>\n",
              "    </tr>\n",
              "    <tr>\n",
              "      <th>998</th>\n",
              "      <td>0.257753</td>\n",
              "      <td>0.173252</td>\n",
              "      <td>-3.010230</td>\n",
              "      <td>1.497116</td>\n",
              "      <td>0.0</td>\n",
              "    </tr>\n",
              "    <tr>\n",
              "      <th>999</th>\n",
              "      <td>-0.155259</td>\n",
              "      <td>0.747241</td>\n",
              "      <td>-3.926792</td>\n",
              "      <td>0.500775</td>\n",
              "      <td>0.0</td>\n",
              "    </tr>\n",
              "  </tbody>\n",
              "</table>\n",
              "<p>1000 rows × 5 columns</p>\n",
              "</div>\n",
              "    <div class=\"colab-df-buttons\">\n",
              "\n",
              "  <div class=\"colab-df-container\">\n",
              "    <button class=\"colab-df-convert\" onclick=\"convertToInteractive('df-f41fcc42-3567-4a29-a942-8f225d43c9f0')\"\n",
              "            title=\"Convert this dataframe to an interactive table.\"\n",
              "            style=\"display:none;\">\n",
              "\n",
              "  <svg xmlns=\"http://www.w3.org/2000/svg\" height=\"24px\" viewBox=\"0 -960 960 960\">\n",
              "    <path d=\"M120-120v-720h720v720H120Zm60-500h600v-160H180v160Zm220 220h160v-160H400v160Zm0 220h160v-160H400v160ZM180-400h160v-160H180v160Zm440 0h160v-160H620v160ZM180-180h160v-160H180v160Zm440 0h160v-160H620v160Z\"/>\n",
              "  </svg>\n",
              "    </button>\n",
              "\n",
              "  <style>\n",
              "    .colab-df-container {\n",
              "      display:flex;\n",
              "      gap: 12px;\n",
              "    }\n",
              "\n",
              "    .colab-df-convert {\n",
              "      background-color: #E8F0FE;\n",
              "      border: none;\n",
              "      border-radius: 50%;\n",
              "      cursor: pointer;\n",
              "      display: none;\n",
              "      fill: #1967D2;\n",
              "      height: 32px;\n",
              "      padding: 0 0 0 0;\n",
              "      width: 32px;\n",
              "    }\n",
              "\n",
              "    .colab-df-convert:hover {\n",
              "      background-color: #E2EBFA;\n",
              "      box-shadow: 0px 1px 2px rgba(60, 64, 67, 0.3), 0px 1px 3px 1px rgba(60, 64, 67, 0.15);\n",
              "      fill: #174EA6;\n",
              "    }\n",
              "\n",
              "    .colab-df-buttons div {\n",
              "      margin-bottom: 4px;\n",
              "    }\n",
              "\n",
              "    [theme=dark] .colab-df-convert {\n",
              "      background-color: #3B4455;\n",
              "      fill: #D2E3FC;\n",
              "    }\n",
              "\n",
              "    [theme=dark] .colab-df-convert:hover {\n",
              "      background-color: #434B5C;\n",
              "      box-shadow: 0px 1px 3px 1px rgba(0, 0, 0, 0.15);\n",
              "      filter: drop-shadow(0px 1px 2px rgba(0, 0, 0, 0.3));\n",
              "      fill: #FFFFFF;\n",
              "    }\n",
              "  </style>\n",
              "\n",
              "    <script>\n",
              "      const buttonEl =\n",
              "        document.querySelector('#df-f41fcc42-3567-4a29-a942-8f225d43c9f0 button.colab-df-convert');\n",
              "      buttonEl.style.display =\n",
              "        google.colab.kernel.accessAllowed ? 'block' : 'none';\n",
              "\n",
              "      async function convertToInteractive(key) {\n",
              "        const element = document.querySelector('#df-f41fcc42-3567-4a29-a942-8f225d43c9f0');\n",
              "        const dataTable =\n",
              "          await google.colab.kernel.invokeFunction('convertToInteractive',\n",
              "                                                    [key], {});\n",
              "        if (!dataTable) return;\n",
              "\n",
              "        const docLinkHtml = 'Like what you see? Visit the ' +\n",
              "          '<a target=\"_blank\" href=https://colab.research.google.com/notebooks/data_table.ipynb>data table notebook</a>'\n",
              "          + ' to learn more about interactive tables.';\n",
              "        element.innerHTML = '';\n",
              "        dataTable['output_type'] = 'display_data';\n",
              "        await google.colab.output.renderOutput(dataTable, element);\n",
              "        const docLink = document.createElement('div');\n",
              "        docLink.innerHTML = docLinkHtml;\n",
              "        element.appendChild(docLink);\n",
              "      }\n",
              "    </script>\n",
              "  </div>\n",
              "\n",
              "\n",
              "<div id=\"df-270ea829-a06b-4775-bac6-a9e68058bde2\">\n",
              "  <button class=\"colab-df-quickchart\" onclick=\"quickchart('df-270ea829-a06b-4775-bac6-a9e68058bde2')\"\n",
              "            title=\"Suggest charts\"\n",
              "            style=\"display:none;\">\n",
              "\n",
              "<svg xmlns=\"http://www.w3.org/2000/svg\" height=\"24px\"viewBox=\"0 0 24 24\"\n",
              "     width=\"24px\">\n",
              "    <g>\n",
              "        <path d=\"M19 3H5c-1.1 0-2 .9-2 2v14c0 1.1.9 2 2 2h14c1.1 0 2-.9 2-2V5c0-1.1-.9-2-2-2zM9 17H7v-7h2v7zm4 0h-2V7h2v10zm4 0h-2v-4h2v4z\"/>\n",
              "    </g>\n",
              "</svg>\n",
              "  </button>\n",
              "\n",
              "<style>\n",
              "  .colab-df-quickchart {\n",
              "      --bg-color: #E8F0FE;\n",
              "      --fill-color: #1967D2;\n",
              "      --hover-bg-color: #E2EBFA;\n",
              "      --hover-fill-color: #174EA6;\n",
              "      --disabled-fill-color: #AAA;\n",
              "      --disabled-bg-color: #DDD;\n",
              "  }\n",
              "\n",
              "  [theme=dark] .colab-df-quickchart {\n",
              "      --bg-color: #3B4455;\n",
              "      --fill-color: #D2E3FC;\n",
              "      --hover-bg-color: #434B5C;\n",
              "      --hover-fill-color: #FFFFFF;\n",
              "      --disabled-bg-color: #3B4455;\n",
              "      --disabled-fill-color: #666;\n",
              "  }\n",
              "\n",
              "  .colab-df-quickchart {\n",
              "    background-color: var(--bg-color);\n",
              "    border: none;\n",
              "    border-radius: 50%;\n",
              "    cursor: pointer;\n",
              "    display: none;\n",
              "    fill: var(--fill-color);\n",
              "    height: 32px;\n",
              "    padding: 0;\n",
              "    width: 32px;\n",
              "  }\n",
              "\n",
              "  .colab-df-quickchart:hover {\n",
              "    background-color: var(--hover-bg-color);\n",
              "    box-shadow: 0 1px 2px rgba(60, 64, 67, 0.3), 0 1px 3px 1px rgba(60, 64, 67, 0.15);\n",
              "    fill: var(--button-hover-fill-color);\n",
              "  }\n",
              "\n",
              "  .colab-df-quickchart-complete:disabled,\n",
              "  .colab-df-quickchart-complete:disabled:hover {\n",
              "    background-color: var(--disabled-bg-color);\n",
              "    fill: var(--disabled-fill-color);\n",
              "    box-shadow: none;\n",
              "  }\n",
              "\n",
              "  .colab-df-spinner {\n",
              "    border: 2px solid var(--fill-color);\n",
              "    border-color: transparent;\n",
              "    border-bottom-color: var(--fill-color);\n",
              "    animation:\n",
              "      spin 1s steps(1) infinite;\n",
              "  }\n",
              "\n",
              "  @keyframes spin {\n",
              "    0% {\n",
              "      border-color: transparent;\n",
              "      border-bottom-color: var(--fill-color);\n",
              "      border-left-color: var(--fill-color);\n",
              "    }\n",
              "    20% {\n",
              "      border-color: transparent;\n",
              "      border-left-color: var(--fill-color);\n",
              "      border-top-color: var(--fill-color);\n",
              "    }\n",
              "    30% {\n",
              "      border-color: transparent;\n",
              "      border-left-color: var(--fill-color);\n",
              "      border-top-color: var(--fill-color);\n",
              "      border-right-color: var(--fill-color);\n",
              "    }\n",
              "    40% {\n",
              "      border-color: transparent;\n",
              "      border-right-color: var(--fill-color);\n",
              "      border-top-color: var(--fill-color);\n",
              "    }\n",
              "    60% {\n",
              "      border-color: transparent;\n",
              "      border-right-color: var(--fill-color);\n",
              "    }\n",
              "    80% {\n",
              "      border-color: transparent;\n",
              "      border-right-color: var(--fill-color);\n",
              "      border-bottom-color: var(--fill-color);\n",
              "    }\n",
              "    90% {\n",
              "      border-color: transparent;\n",
              "      border-bottom-color: var(--fill-color);\n",
              "    }\n",
              "  }\n",
              "</style>\n",
              "\n",
              "  <script>\n",
              "    async function quickchart(key) {\n",
              "      const quickchartButtonEl =\n",
              "        document.querySelector('#' + key + ' button');\n",
              "      quickchartButtonEl.disabled = true;  // To prevent multiple clicks.\n",
              "      quickchartButtonEl.classList.add('colab-df-spinner');\n",
              "      try {\n",
              "        const charts = await google.colab.kernel.invokeFunction(\n",
              "            'suggestCharts', [key], {});\n",
              "      } catch (error) {\n",
              "        console.error('Error during call to suggestCharts:', error);\n",
              "      }\n",
              "      quickchartButtonEl.classList.remove('colab-df-spinner');\n",
              "      quickchartButtonEl.classList.add('colab-df-quickchart-complete');\n",
              "    }\n",
              "    (() => {\n",
              "      let quickchartButtonEl =\n",
              "        document.querySelector('#df-270ea829-a06b-4775-bac6-a9e68058bde2 button');\n",
              "      quickchartButtonEl.style.display =\n",
              "        google.colab.kernel.accessAllowed ? 'block' : 'none';\n",
              "    })();\n",
              "  </script>\n",
              "</div>\n",
              "\n",
              "  <div id=\"id_3439321b-bfe3-431e-9cd9-1aa2f673ffa7\">\n",
              "    <style>\n",
              "      .colab-df-generate {\n",
              "        background-color: #E8F0FE;\n",
              "        border: none;\n",
              "        border-radius: 50%;\n",
              "        cursor: pointer;\n",
              "        display: none;\n",
              "        fill: #1967D2;\n",
              "        height: 32px;\n",
              "        padding: 0 0 0 0;\n",
              "        width: 32px;\n",
              "      }\n",
              "\n",
              "      .colab-df-generate:hover {\n",
              "        background-color: #E2EBFA;\n",
              "        box-shadow: 0px 1px 2px rgba(60, 64, 67, 0.3), 0px 1px 3px 1px rgba(60, 64, 67, 0.15);\n",
              "        fill: #174EA6;\n",
              "      }\n",
              "\n",
              "      [theme=dark] .colab-df-generate {\n",
              "        background-color: #3B4455;\n",
              "        fill: #D2E3FC;\n",
              "      }\n",
              "\n",
              "      [theme=dark] .colab-df-generate:hover {\n",
              "        background-color: #434B5C;\n",
              "        box-shadow: 0px 1px 3px 1px rgba(0, 0, 0, 0.15);\n",
              "        filter: drop-shadow(0px 1px 2px rgba(0, 0, 0, 0.3));\n",
              "        fill: #FFFFFF;\n",
              "      }\n",
              "    </style>\n",
              "    <button class=\"colab-df-generate\" onclick=\"generateWithVariable('df')\"\n",
              "            title=\"Generate code using this dataframe.\"\n",
              "            style=\"display:none;\">\n",
              "\n",
              "  <svg xmlns=\"http://www.w3.org/2000/svg\" height=\"24px\"viewBox=\"0 0 24 24\"\n",
              "       width=\"24px\">\n",
              "    <path d=\"M7,19H8.4L18.45,9,17,7.55,7,17.6ZM5,21V16.75L18.45,3.32a2,2,0,0,1,2.83,0l1.4,1.43a1.91,1.91,0,0,1,.58,1.4,1.91,1.91,0,0,1-.58,1.4L9.25,21ZM18.45,9,17,7.55Zm-12,3A5.31,5.31,0,0,0,4.9,8.1,5.31,5.31,0,0,0,1,6.5,5.31,5.31,0,0,0,4.9,4.9,5.31,5.31,0,0,0,6.5,1,5.31,5.31,0,0,0,8.1,4.9,5.31,5.31,0,0,0,12,6.5,5.46,5.46,0,0,0,6.5,12Z\"/>\n",
              "  </svg>\n",
              "    </button>\n",
              "    <script>\n",
              "      (() => {\n",
              "      const buttonEl =\n",
              "        document.querySelector('#id_3439321b-bfe3-431e-9cd9-1aa2f673ffa7 button.colab-df-generate');\n",
              "      buttonEl.style.display =\n",
              "        google.colab.kernel.accessAllowed ? 'block' : 'none';\n",
              "\n",
              "      buttonEl.onclick = () => {\n",
              "        google.colab.notebook.generateWithVariable('df');\n",
              "      }\n",
              "      })();\n",
              "    </script>\n",
              "  </div>\n",
              "\n",
              "    </div>\n",
              "  </div>\n"
            ],
            "application/vnd.google.colaboratory.intrinsic+json": {
              "type": "dataframe",
              "variable_name": "df",
              "summary": "{\n  \"name\": \"df\",\n  \"rows\": 1000,\n  \"fields\": [\n    {\n      \"column\": \"Z1\",\n      \"properties\": {\n        \"dtype\": \"number\",\n        \"std\": 0.9811187124737053,\n        \"min\": -3.0195121558208253,\n        \"max\": 3.852731490654721,\n        \"num_unique_values\": 1000,\n        \"samples\": [\n          -0.2813275571182134,\n          -0.45209033283308037,\n          0.7441919714999368\n        ],\n        \"semantic_type\": \"\",\n        \"description\": \"\"\n      }\n    },\n    {\n      \"column\": \"Z2\",\n      \"properties\": {\n        \"dtype\": \"number\",\n        \"std\": 2.2552319003878987,\n        \"min\": -7.247694105644374,\n        \"max\": 7.140005581170131,\n        \"num_unique_values\": 1000,\n        \"samples\": [\n          1.6476330427045407,\n          1.9729567061507014,\n          -1.4479474956731724\n        ],\n        \"semantic_type\": \"\",\n        \"description\": \"\"\n      }\n    },\n    {\n      \"column\": \"Z3\",\n      \"properties\": {\n        \"dtype\": \"number\",\n        \"std\": 3.068080693690459,\n        \"min\": -9.298325291611857,\n        \"max\": 12.415853787574333,\n        \"num_unique_values\": 1000,\n        \"samples\": [\n          2.795597007487248,\n          1.9116453117629735,\n          -1.133171057478052\n        ],\n        \"semantic_type\": \"\",\n        \"description\": \"\"\n      }\n    },\n    {\n      \"column\": \"Y\",\n      \"properties\": {\n        \"dtype\": \"number\",\n        \"std\": 0.9642861328640382,\n        \"min\": 0.0006448663790855874,\n        \"max\": 4.920447319832571,\n        \"num_unique_values\": 1000,\n        \"samples\": [\n          1.3799348515770018,\n          2.336304980037513,\n          0.6883024083381868\n        ],\n        \"semantic_type\": \"\",\n        \"description\": \"\"\n      }\n    },\n    {\n      \"column\": \"obs\",\n      \"properties\": {\n        \"dtype\": \"number\",\n        \"std\": 0.426686138819927,\n        \"min\": 0.0,\n        \"max\": 1.0,\n        \"num_unique_values\": 2,\n        \"samples\": [\n          0.0,\n          1.0\n        ],\n        \"semantic_type\": \"\",\n        \"description\": \"\"\n      }\n    }\n  ]\n}"
            }
          },
          "metadata": {},
          "execution_count": 15
        }
      ],
      "source": [
        "p = 3\n",
        "mu = [0]*p\n",
        "S = np.diag([1,5,10])\n",
        "N = 1000\n",
        "beta = np.array([0.5, -0.3, 0]) # Coefficients for covariates\n",
        "tau = 5 # Maximum follow-up time for censoring\n",
        "\n",
        "np.random.seed(42)\n",
        "Z = np.random.multivariate_normal(mu, S, N)\n",
        "h0 = 1 # baseline hazard\n",
        "u = np.random.uniform(0, 1, N)\n",
        "\n",
        "T = -np.log(u)*np.exp(-Z@beta)\n",
        "cu = np.random.uniform(0, tau, N) # censoring time\n",
        "\n",
        "Y = np.minimum(T, cu)\n",
        "obs = (T<= cu) # censored (0,1)\n",
        "\n",
        "df = pd.DataFrame(np.column_stack((Z,Y,obs)))\n",
        "df.columns = [\"Z1\", \"Z2\", \"Z3\", \"Y\", \"obs\"]\n",
        "df"
      ]
    },
    {
      "cell_type": "code",
      "source": [
        "print(beta.shape)\n",
        "print(Z.shape)\n",
        "print(Y.shape)\n",
        "print(obs.shape)\n",
        "print(df.shape)\n",
        "print(T.shape)"
      ],
      "metadata": {
        "colab": {
          "base_uri": "https://localhost:8080/"
        },
        "id": "2LgIIqnWLW6T",
        "outputId": "c75bad94-22ca-4575-abb4-37b36e973830"
      },
      "id": "2LgIIqnWLW6T",
      "execution_count": null,
      "outputs": [
        {
          "output_type": "stream",
          "name": "stdout",
          "text": [
            "(3,)\n",
            "(1000, 3)\n",
            "(1000,)\n",
            "(1000,)\n",
            "(1000, 5)\n",
            "(1000,)\n"
          ]
        }
      ]
    },
    {
      "cell_type": "code",
      "source": [
        "max(Y)"
      ],
      "metadata": {
        "colab": {
          "base_uri": "https://localhost:8080/"
        },
        "id": "kAzpGlW_AAJm",
        "outputId": "e38be9e2-e0b9-4a61-e183-fe1942a939f5"
      },
      "id": "kAzpGlW_AAJm",
      "execution_count": null,
      "outputs": [
        {
          "output_type": "execute_result",
          "data": {
            "text/plain": [
              "4.920447319832571"
            ]
          },
          "metadata": {},
          "execution_count": 17
        }
      ]
    },
    {
      "cell_type": "code",
      "source": [
        "# setting it to their format\n",
        "y = Surv.from_dataframe('obs','Y',df)\n",
        "\n",
        "mod = CoxPHSurvivalAnalysis().fit(Z, y)\n",
        "mod.coef_"
      ],
      "metadata": {
        "colab": {
          "base_uri": "https://localhost:8080/"
        },
        "id": "MFTjx1DxqsvN",
        "outputId": "f45f6748-04b6-42ad-aea2-4fa4763862dd"
      },
      "id": "MFTjx1DxqsvN",
      "execution_count": null,
      "outputs": [
        {
          "output_type": "execute_result",
          "data": {
            "text/plain": [
              "array([ 0.49881809, -0.29557086,  0.00628197])"
            ]
          },
          "metadata": {},
          "execution_count": 18
        }
      ]
    },
    {
      "cell_type": "markdown",
      "source": [
        "Hyperparamter Tuning:\n",
        "\n",
        "{'estimator__max_depth': 4,\n",
        " 'estimator__min_samples_leaf': 25,\n",
        " 'estimator__min_samples_split': 55} : -0.13121890195065214\n",
        "\n",
        "{'estimator__max_depth': 4,\n",
        " 'estimator__min_samples_leaf': 45,\n",
        " 'estimator__min_samples_split': 5} : 0.6800327577635323\n",
        "\n",
        "{'estimator__max_depth': 8,\n",
        " 'estimator__min_samples_leaf': 25,\n",
        " 'estimator__min_samples_split': 5} : 0.7824510663961288"
      ],
      "metadata": {
        "id": "jxh6cl0rwnCw"
      },
      "id": "jxh6cl0rwnCw"
    },
    {
      "cell_type": "code",
      "source": [
        "x_train, x_test, y_train, y_test = train_test_split(Z, y, test_size=0.2, stratify = y['obs'], random_state=0) # splitting data\n",
        "mod1 = SurvivalTree(random_state = 0).fit(x_train, y_train)\n",
        "\n",
        "low, up = np.percentile(y[\"Y\"], [10, 90])\n",
        "up = 4\n",
        "t = np.arange(low, up)\n",
        "\n",
        "cv = KFold(n_splits=5, shuffle=True, random_state=1)\n",
        "\n",
        "params = {\n",
        "    'estimator__max_depth': range(2,10),\n",
        "    'estimator__min_samples_leaf': [10, 20 ,30 ,40 ,50],\n",
        "}"
      ],
      "metadata": {
        "id": "V6gCSTP8Lifj"
      },
      "id": "V6gCSTP8Lifj",
      "execution_count": null,
      "outputs": []
    },
    {
      "cell_type": "code",
      "source": [
        "low"
      ],
      "metadata": {
        "colab": {
          "base_uri": "https://localhost:8080/"
        },
        "id": "dBR5_HeO4ass",
        "outputId": "346b4787-bcee-4ada-edb9-79bd18b6c3c8"
      },
      "id": "dBR5_HeO4ass",
      "execution_count": null,
      "outputs": [
        {
          "output_type": "execute_result",
          "data": {
            "text/plain": [
              "0.07659232156033734"
            ]
          },
          "metadata": {},
          "execution_count": 20
        }
      ]
    },
    {
      "cell_type": "code",
      "source": [
        "up"
      ],
      "metadata": {
        "colab": {
          "base_uri": "https://localhost:8080/"
        },
        "id": "kdL6wJke4STl",
        "outputId": "c90771b0-486e-45ac-f4a4-4161fe2307c1"
      },
      "id": "kdL6wJke4STl",
      "execution_count": null,
      "outputs": [
        {
          "output_type": "execute_result",
          "data": {
            "text/plain": [
              "4"
            ]
          },
          "metadata": {},
          "execution_count": 21
        }
      ]
    },
    {
      "cell_type": "code",
      "source": [
        "t"
      ],
      "metadata": {
        "colab": {
          "base_uri": "https://localhost:8080/"
        },
        "id": "UO29F46j4mBk",
        "outputId": "30463290-a68c-498f-ebb4-89c72f0ca7a7"
      },
      "id": "UO29F46j4mBk",
      "execution_count": null,
      "outputs": [
        {
          "output_type": "execute_result",
          "data": {
            "text/plain": [
              "array([0.07659232, 1.07659232, 2.07659232, 3.07659232])"
            ]
          },
          "metadata": {},
          "execution_count": 22
        }
      ]
    },
    {
      "cell_type": "code",
      "source": [
        "gcv_brier = GridSearchCV(\n",
        "    as_integrated_brier_score_scorer(mod1, times=t),\n",
        "    param_grid= params,\n",
        "    cv=cv,\n",
        "    n_jobs= -1,\n",
        ").fit(x_train, y_train)\n",
        "\n",
        "gcv_brier.best_params_"
      ],
      "metadata": {
        "colab": {
          "base_uri": "https://localhost:8080/"
        },
        "id": "MAnJFFEhosSx",
        "outputId": "f129994d-0afc-4e67-81d6-810e832e6541"
      },
      "id": "MAnJFFEhosSx",
      "execution_count": null,
      "outputs": [
        {
          "output_type": "stream",
          "name": "stderr",
          "text": [
            "/usr/local/lib/python3.10/dist-packages/numpy/ma/core.py:2820: RuntimeWarning: invalid value encountered in cast\n",
            "  _data = np.array(data, dtype=dtype, copy=copy,\n"
          ]
        },
        {
          "output_type": "execute_result",
          "data": {
            "text/plain": [
              "{'estimator__max_depth': 4, 'estimator__min_samples_leaf': 50}"
            ]
          },
          "metadata": {},
          "execution_count": 23
        }
      ]
    },
    {
      "cell_type": "code",
      "source": [
        "gcv_brier.best_score_"
      ],
      "metadata": {
        "colab": {
          "base_uri": "https://localhost:8080/"
        },
        "id": "AiBAFyyKqP9A",
        "outputId": "739a586b-5989-4134-a9d2-a10dd58966fa"
      },
      "id": "AiBAFyyKqP9A",
      "execution_count": null,
      "outputs": [
        {
          "output_type": "execute_result",
          "data": {
            "text/plain": [
              "-0.13143648943839434"
            ]
          },
          "metadata": {},
          "execution_count": 24
        }
      ]
    },
    {
      "cell_type": "code",
      "source": [
        "gcv_ci = GridSearchCV(\n",
        "    as_concordance_index_ipcw_scorer(mod1, tau=t[-1]),\n",
        "    param_grid= params,\n",
        "    cv=cv,\n",
        "    n_jobs=-1,\n",
        ").fit(x_train, y_train)\n",
        "\n",
        "gcv_ci.best_params_"
      ],
      "metadata": {
        "colab": {
          "base_uri": "https://localhost:8080/"
        },
        "id": "qCmXlLbBpAky",
        "outputId": "4fc492ae-d376-4f67-881a-ae090799009a"
      },
      "id": "qCmXlLbBpAky",
      "execution_count": null,
      "outputs": [
        {
          "output_type": "execute_result",
          "data": {
            "text/plain": [
              "{'estimator__max_depth': 4, 'estimator__min_samples_leaf': 40}"
            ]
          },
          "metadata": {},
          "execution_count": 25
        }
      ]
    },
    {
      "cell_type": "code",
      "source": [
        "gcv_ci.best_score_"
      ],
      "metadata": {
        "colab": {
          "base_uri": "https://localhost:8080/"
        },
        "id": "WUMsGxJ3q3T6",
        "outputId": "f69ac8ac-2694-4bfc-f254-c56232812712"
      },
      "id": "WUMsGxJ3q3T6",
      "execution_count": null,
      "outputs": [
        {
          "output_type": "execute_result",
          "data": {
            "text/plain": [
              "0.6804716732547794"
            ]
          },
          "metadata": {},
          "execution_count": 26
        }
      ]
    },
    {
      "cell_type": "code",
      "source": [
        "gcv_auc = GridSearchCV(\n",
        "    as_cumulative_dynamic_auc_scorer(mod1, times=t),\n",
        "    param_grid= params,\n",
        "    cv=cv,\n",
        "    n_jobs=-1,\n",
        ").fit(x_train, y_train)\n",
        "\n",
        "gcv_auc.best_params_"
      ],
      "metadata": {
        "colab": {
          "base_uri": "https://localhost:8080/"
        },
        "id": "z_nc6D-spDFt",
        "outputId": "fa0bc528-609b-46bb-f930-62bc0d56264f"
      },
      "id": "z_nc6D-spDFt",
      "execution_count": null,
      "outputs": [
        {
          "output_type": "execute_result",
          "data": {
            "text/plain": [
              "{'estimator__max_depth': 4, 'estimator__min_samples_leaf': 40}"
            ]
          },
          "metadata": {},
          "execution_count": 27
        }
      ]
    },
    {
      "cell_type": "code",
      "source": [
        "gcv_auc.best_score_"
      ],
      "metadata": {
        "id": "tBzsrOo8q5g4",
        "colab": {
          "base_uri": "https://localhost:8080/"
        },
        "outputId": "2d2e3550-1f68-470e-d4ef-bc8cc70fc1ee"
      },
      "id": "tBzsrOo8q5g4",
      "execution_count": null,
      "outputs": [
        {
          "output_type": "execute_result",
          "data": {
            "text/plain": [
              "0.7815096050158687"
            ]
          },
          "metadata": {},
          "execution_count": 28
        }
      ]
    },
    {
      "cell_type": "code",
      "source": [
        "def plot_grid(gcv, ax, name):\n",
        "    ax.errorbar(\n",
        "        x=gcv.cv_results_[\"param_estimator__min_samples_leaf\"].filled(),\n",
        "        y=gcv.cv_results_[\"mean_test_score\"],\n",
        "        yerr=gcv.cv_results_[\"std_test_score\"],\n",
        "    )\n",
        "    ax.plot(\n",
        "        gcv.best_params_[\"estimator__min_samples_leaf\"],\n",
        "        gcv.best_score_,\n",
        "        \"ro\",\n",
        "    )\n",
        "    ax.set_ylabel(name)\n",
        "    ax.yaxis.grid(True)\n",
        "\n",
        "\n",
        "_, axs = plt.subplots(3, 1, figsize=(6, 6), sharex=True)\n",
        "axs[-1].set_xlabel(\"max_depth\")\n",
        "\n",
        "plot_grid(gcv_brier, axs[0], \"brier\")\n",
        "plot_grid(gcv_ci, axs[1], \"ci\")\n",
        "plot_grid(gcv_auc, axs[2], \"auc\")"
      ],
      "metadata": {
        "colab": {
          "base_uri": "https://localhost:8080/",
          "height": 542
        },
        "id": "sQZP3iND5w3I",
        "outputId": "d9b3afdb-a527-4ed8-bde6-bbfe0a382a13"
      },
      "id": "sQZP3iND5w3I",
      "execution_count": null,
      "outputs": [
        {
          "output_type": "display_data",
          "data": {
            "text/plain": [
              "<Figure size 600x600 with 3 Axes>"
            ],
            "image/png": "[encoded data removed]"
          },
          "metadata": {}
        }
      ]
    },
    {
      "cell_type": "code",
      "source": [
        "st1 = SurvivalTree(max_depth = 2, min_samples_leaf = 10).fit(x_train, y_train)\n",
        "st2 = SurvivalTree(max_depth = 4, min_samples_leaf = 40).fit(x_train, y_train)\n",
        "st3 = SurvivalTree(max_depth = 5, min_samples_leaf = 10).fit(x_train, y_train)\n",
        "\n",
        "st1_pred = st1.predict(x_test)\n",
        "st2_pred = st2.predict(x_test)\n",
        "st3_pred = st3.predict(x_test)"
      ],
      "metadata": {
        "id": "Kyx5MCKetKgT"
      },
      "id": "Kyx5MCKetKgT",
      "execution_count": null,
      "outputs": []
    },
    {
      "cell_type": "code",
      "source": [
        "len(set(st1_pred))"
      ],
      "metadata": {
        "colab": {
          "base_uri": "https://localhost:8080/"
        },
        "id": "J8NrL9pl0zTv",
        "outputId": "e8150209-7d6b-4031-ee72-dfd22be3a330"
      },
      "id": "J8NrL9pl0zTv",
      "execution_count": null,
      "outputs": [
        {
          "output_type": "execute_result",
          "data": {
            "text/plain": [
              "4"
            ]
          },
          "metadata": {},
          "execution_count": 31
        }
      ]
    },
    {
      "cell_type": "code",
      "source": [
        "np.unique(st1_pred)"
      ],
      "metadata": {
        "colab": {
          "base_uri": "https://localhost:8080/"
        },
        "id": "Bku0iD6NfdGV",
        "outputId": "9a823b94-2514-4cf1-c872-821e78369c27"
      },
      "id": "Bku0iD6NfdGV",
      "execution_count": null,
      "outputs": [
        {
          "output_type": "execute_result",
          "data": {
            "text/plain": [
              "array([ 138.80658929,  383.83963889,  554.22408182, 1222.02263083])"
            ]
          },
          "metadata": {},
          "execution_count": 32
        }
      ]
    },
    {
      "cell_type": "code",
      "source": [
        "len(set(st2_pred))"
      ],
      "metadata": {
        "colab": {
          "base_uri": "https://localhost:8080/"
        },
        "id": "XItZ2LSQ6SU8",
        "outputId": "e7540f95-aa0a-44a2-b60e-1282a0d29e51"
      },
      "id": "XItZ2LSQ6SU8",
      "execution_count": null,
      "outputs": [
        {
          "output_type": "execute_result",
          "data": {
            "text/plain": [
              "13"
            ]
          },
          "metadata": {},
          "execution_count": 33
        }
      ]
    },
    {
      "cell_type": "code",
      "source": [
        "np.unique(st2_pred)"
      ],
      "metadata": {
        "colab": {
          "base_uri": "https://localhost:8080/"
        },
        "id": "oD6i5qWRfei6",
        "outputId": "369fb100-9980-4077-e658-4ef3962e2179"
      },
      "id": "oD6i5qWRfei6",
      "execution_count": null,
      "outputs": [
        {
          "output_type": "execute_result",
          "data": {
            "text/plain": [
              "array([  55.0627728 ,  128.58242044,  136.19974271,  324.10396967,\n",
              "        364.96156699,  393.60413344,  494.53090146,  559.75780657,\n",
              "        713.2288048 ,  793.05747726,  885.32795292, 1179.2799682 ,\n",
              "       1480.68952433])"
            ]
          },
          "metadata": {},
          "execution_count": 34
        }
      ]
    },
    {
      "cell_type": "code",
      "source": [
        "len(set(st3_pred))"
      ],
      "metadata": {
        "colab": {
          "base_uri": "https://localhost:8080/"
        },
        "id": "21AwvogE6SZ7",
        "outputId": "b5fca9c4-ad13-4c39-db49-12c42f102a56"
      },
      "id": "21AwvogE6SZ7",
      "execution_count": null,
      "outputs": [
        {
          "output_type": "execute_result",
          "data": {
            "text/plain": [
              "25"
            ]
          },
          "metadata": {},
          "execution_count": 35
        }
      ]
    },
    {
      "cell_type": "code",
      "source": [
        "np.unique(st3_pred)"
      ],
      "metadata": {
        "colab": {
          "base_uri": "https://localhost:8080/"
        },
        "id": "niLn_8lsfe9Q",
        "outputId": "e3e87d99-b2c5-4806-c99d-8469041231dd"
      },
      "id": "niLn_8lsfe9Q",
      "execution_count": null,
      "outputs": [
        {
          "output_type": "execute_result",
          "data": {
            "text/plain": [
              "array([   1.66666667,    3.66666667,   46.46212121,   75.02773615,\n",
              "         93.70033012,  115.77371795,  174.95560814,  266.57526563,\n",
              "        274.08361103,  280.52823817,  408.55021314,  521.12586316,\n",
              "        545.6297619 ,  553.86805831,  554.99253247,  726.46818182,\n",
              "        726.71083084,  751.7018537 ,  903.31692197,  934.22634171,\n",
              "        974.29722222, 1011.69003726, 1018.08809524, 1335.37156843,\n",
              "       1414.03557967])"
            ]
          },
          "metadata": {},
          "execution_count": 36
        }
      ]
    },
    {
      "cell_type": "code",
      "source": [
        "# Survival Function\n",
        "pred2 = st1.predict_survival_function(x_test)\n",
        "for fn in pred2:\n",
        "  plt.step(fn.x, fn(fn.x), where=\"post\")\n",
        "plt.ylim(0,1)\n",
        "plt.xlim(0,5)\n",
        "plt.show()"
      ],
      "metadata": {
        "id": "lFpqDurS7pKq",
        "colab": {
          "base_uri": "https://localhost:8080/",
          "height": 435
        },
        "outputId": "e68a6072-4a33-4adc-db97-2406f3cb642e"
      },
      "id": "lFpqDurS7pKq",
      "execution_count": null,
      "outputs": [
        {
          "output_type": "display_data",
          "data": {
            "text/plain": [
              "<Figure size 640x480 with 1 Axes>"
            ],
            "image/png": "[encoded data removed]"
          },
          "metadata": {}
        }
      ]
    },
    {
      "cell_type": "code",
      "source": [
        "# Survival Function\n",
        "pred2 = st2.predict_survival_function(x_test)\n",
        "for fn in pred2:\n",
        "  plt.step(fn.x, fn(fn.x), where=\"post\")\n",
        "plt.ylim(0,1)\n",
        "plt.xlim(0,5)\n",
        "plt.show()"
      ],
      "metadata": {
        "colab": {
          "base_uri": "https://localhost:8080/",
          "height": 435
        },
        "id": "zUf8fE3-6fr8",
        "outputId": "bb38b83b-8705-461b-e2dd-c7ff40d2d2e9"
      },
      "id": "zUf8fE3-6fr8",
      "execution_count": null,
      "outputs": [
        {
          "output_type": "display_data",
          "data": {
            "text/plain": [
              "<Figure size 640x480 with 1 Axes>"
            ],
            "image/png": "[encoded data removed]"
          },
          "metadata": {}
        }
      ]
    },
    {
      "cell_type": "code",
      "source": [
        "# Survival Function\n",
        "pred2 = st3.predict_survival_function(x_test)\n",
        "for fn in pred2:\n",
        "  plt.step(fn.x, fn(fn.x), where=\"post\")\n",
        "plt.ylim(0,1)\n",
        "plt.xlim(0,5)\n",
        "plt.show()"
      ],
      "metadata": {
        "colab": {
          "base_uri": "https://localhost:8080/",
          "height": 435
        },
        "id": "uEejCuiu6jLu",
        "outputId": "5d2e86fb-4459-4536-b3b6-cdeb23150b33"
      },
      "id": "uEejCuiu6jLu",
      "execution_count": null,
      "outputs": [
        {
          "output_type": "display_data",
          "data": {
            "text/plain": [
              "<Figure size 640x480 with 1 Axes>"
            ],
            "image/png": "[encoded data removed]"
          },
          "metadata": {}
        }
      ]
    },
    {
      "cell_type": "code",
      "source": [
        "# Cumulative Hazard Function\n",
        "pred3 = st1.predict_cumulative_hazard_function(x_test)\n",
        "for fn in pred3:\n",
        "  plt.step(fn.x, fn(fn.x), where=\"post\")\n",
        "plt.ylim(0,5)\n",
        "plt.xlim(0,5)\n",
        "plt.show()"
      ],
      "metadata": {
        "id": "55D6xy1S7S8-",
        "colab": {
          "base_uri": "https://localhost:8080/",
          "height": 435
        },
        "outputId": "efc7f209-8412-44b3-d1dc-2b81b8652154"
      },
      "id": "55D6xy1S7S8-",
      "execution_count": null,
      "outputs": [
        {
          "output_type": "display_data",
          "data": {
            "text/plain": [
              "<Figure size 640x480 with 1 Axes>"
            ],
            "image/png": "[encoded data removed]"
          },
          "metadata": {}
        }
      ]
    },
    {
      "cell_type": "code",
      "source": [
        "st1.score(x_test, y_test)"
      ],
      "metadata": {
        "id": "He4TxMlulkFN",
        "colab": {
          "base_uri": "https://localhost:8080/"
        },
        "outputId": "76853be2-8daa-4476-ec29-0e89e97aec9d"
      },
      "id": "He4TxMlulkFN",
      "execution_count": null,
      "outputs": [
        {
          "output_type": "execute_result",
          "data": {
            "text/plain": [
              "0.6334026334026334"
            ]
          },
          "metadata": {},
          "execution_count": 41
        }
      ]
    },
    {
      "cell_type": "code",
      "source": [
        "st2.score(x_test, y_test)"
      ],
      "metadata": {
        "colab": {
          "base_uri": "https://localhost:8080/"
        },
        "id": "YhUgLqvD74zy",
        "outputId": "49287d51-6e06-41eb-8727-8b5fd9748da6"
      },
      "id": "YhUgLqvD74zy",
      "execution_count": null,
      "outputs": [
        {
          "output_type": "execute_result",
          "data": {
            "text/plain": [
              "0.6483336483336484"
            ]
          },
          "metadata": {},
          "execution_count": 42
        }
      ]
    },
    {
      "cell_type": "code",
      "source": [
        "st3.score(x_test, y_test)"
      ],
      "metadata": {
        "colab": {
          "base_uri": "https://localhost:8080/"
        },
        "id": "HqwGlbO676Vn",
        "outputId": "2cd57fc2-5dea-41cd-9f2e-8f44faa593ef"
      },
      "id": "HqwGlbO676Vn",
      "execution_count": null,
      "outputs": [
        {
          "output_type": "execute_result",
          "data": {
            "text/plain": [
              "0.6863226863226863"
            ]
          },
          "metadata": {},
          "execution_count": 43
        }
      ]
    },
    {
      "cell_type": "code",
      "source": [
        "t"
      ],
      "metadata": {
        "colab": {
          "base_uri": "https://localhost:8080/"
        },
        "id": "RjnAKH218Fk6",
        "outputId": "7bd3a58c-88ba-48be-b78d-12ded0a2564a"
      },
      "id": "RjnAKH218Fk6",
      "execution_count": null,
      "outputs": [
        {
          "output_type": "execute_result",
          "data": {
            "text/plain": [
              "array([0.07659232, 1.07659232, 2.07659232, 3.07659232])"
            ]
          },
          "metadata": {},
          "execution_count": 44
        }
      ]
    },
    {
      "cell_type": "code",
      "source": [
        "concordance_index_ipcw(y_train, y_test, st1_pred)"
      ],
      "metadata": {
        "colab": {
          "base_uri": "https://localhost:8080/"
        },
        "id": "XiWAI8Opgzo2",
        "outputId": "ca02db37-0e23-48bb-b339-f7817e2826f2"
      },
      "id": "XiWAI8Opgzo2",
      "execution_count": null,
      "outputs": [
        {
          "output_type": "execute_result",
          "data": {
            "text/plain": [
              "(0.6223671324576047, 7719, 3484, 4670, 0)"
            ]
          },
          "metadata": {},
          "execution_count": 45
        }
      ]
    },
    {
      "cell_type": "code",
      "source": [
        "concordance_index_ipcw(y_train, y_test, st1_pred, t[-1])"
      ],
      "metadata": {
        "colab": {
          "base_uri": "https://localhost:8080/"
        },
        "id": "4aUj4mas5UTN",
        "outputId": "1e21dfa7-2545-4bef-af1c-2646d820aa31"
      },
      "id": "4aUj4mas5UTN",
      "execution_count": null,
      "outputs": [
        {
          "output_type": "execute_result",
          "data": {
            "text/plain": [
              "(0.6247382463099832, 7719, 3484, 4670, 0)"
            ]
          },
          "metadata": {},
          "execution_count": 46
        }
      ]
    },
    {
      "cell_type": "code",
      "source": [
        "concordance_index_ipcw(y_train, y_test, st2_pred, t[-1])"
      ],
      "metadata": {
        "colab": {
          "base_uri": "https://localhost:8080/"
        },
        "id": "pBOgxO1ub0xg",
        "outputId": "a399b3a4-0f55-425a-bda6-7924957731a8"
      },
      "id": "pBOgxO1ub0xg",
      "execution_count": null,
      "outputs": [
        {
          "output_type": "execute_result",
          "data": {
            "text/plain": [
              "(0.6429151706861918, 9516, 4807, 1550, 0)"
            ]
          },
          "metadata": {},
          "execution_count": 47
        }
      ]
    },
    {
      "cell_type": "code",
      "source": [
        "concordance_index_ipcw(y_train, y_test, st3_pred, t[-1])"
      ],
      "metadata": {
        "colab": {
          "base_uri": "https://localhost:8080/"
        },
        "id": "fjYzA7pDcA-V",
        "outputId": "30a64057-8bfd-4324-dee4-bc85dbc959f3"
      },
      "id": "fjYzA7pDcA-V",
      "execution_count": null,
      "outputs": [
        {
          "output_type": "execute_result",
          "data": {
            "text/plain": [
              "(0.6791190260187192, 10216, 4301, 1356, 0)"
            ]
          },
          "metadata": {},
          "execution_count": 48
        }
      ]
    },
    {
      "cell_type": "code",
      "source": [
        "surv1 = np.asarray([[fn(i) for i in t] for fn in st1.predict_survival_function(x_test)])\n",
        "integrated_brier_score(y_train, y_test, surv1, t)"
      ],
      "metadata": {
        "colab": {
          "base_uri": "https://localhost:8080/"
        },
        "id": "6ncZSZ8U5-dy",
        "outputId": "83f7c2f0-66c5-4b0f-e737-e29c2c70007e"
      },
      "id": "6ncZSZ8U5-dy",
      "execution_count": null,
      "outputs": [
        {
          "output_type": "execute_result",
          "data": {
            "text/plain": [
              "0.1422224622578498"
            ]
          },
          "metadata": {},
          "execution_count": 49
        }
      ]
    },
    {
      "cell_type": "code",
      "source": [
        "surv2 = np.asarray([[fn(i) for i in t] for fn in st2.predict_survival_function(x_test)])\n",
        "integrated_brier_score(y_train, y_test, surv2, t)"
      ],
      "metadata": {
        "colab": {
          "base_uri": "https://localhost:8080/"
        },
        "id": "8IYmFDBm6IQG",
        "outputId": "8a47fd14-bd3c-4abd-cbc7-795d8248c389"
      },
      "id": "8IYmFDBm6IQG",
      "execution_count": null,
      "outputs": [
        {
          "output_type": "execute_result",
          "data": {
            "text/plain": [
              "0.14113903455460353"
            ]
          },
          "metadata": {},
          "execution_count": 50
        }
      ]
    },
    {
      "cell_type": "code",
      "source": [
        "surv3 = np.asarray([[fn(i) for i in t] for fn in st3.predict_survival_function(x_test)])\n",
        "integrated_brier_score(y_train, y_test, surv3, t)"
      ],
      "metadata": {
        "colab": {
          "base_uri": "https://localhost:8080/"
        },
        "id": "1EXpPPFJ6IWp",
        "outputId": "34a3c537-79c1-47d0-de27-f43bfeccda1e"
      },
      "id": "1EXpPPFJ6IWp",
      "execution_count": null,
      "outputs": [
        {
          "output_type": "execute_result",
          "data": {
            "text/plain": [
              "0.13923757486278854"
            ]
          },
          "metadata": {},
          "execution_count": 51
        }
      ]
    },
    {
      "cell_type": "code",
      "source": [
        "st1_auc, st1_mean_auc = cumulative_dynamic_auc(y_train, y_test, st1_pred, t)\n",
        "print(st1_auc)\n",
        "print(st1_mean_auc)"
      ],
      "metadata": {
        "colab": {
          "base_uri": "https://localhost:8080/"
        },
        "id": "35ZyZK7p3KFq",
        "outputId": "590970e0-e022-406a-d91f-460507ac5db1"
      },
      "id": "35ZyZK7p3KFq",
      "execution_count": null,
      "outputs": [
        {
          "output_type": "stream",
          "name": "stdout",
          "text": [
            "[0.59629315 0.69239585 0.6244069  0.73920665]\n",
            "0.6760196080049695\n"
          ]
        }
      ]
    },
    {
      "cell_type": "code",
      "source": [
        "st2_auc, st2_mean_auc = cumulative_dynamic_auc(y_train, y_test, st2_pred, t)\n",
        "print(st2_auc)\n",
        "print(st2_mean_auc)"
      ],
      "metadata": {
        "colab": {
          "base_uri": "https://localhost:8080/"
        },
        "id": "lESNY0XjCmqK",
        "outputId": "b89a5b42-6bd4-4fb9-9bab-3a47e3a2adeb"
      },
      "id": "lESNY0XjCmqK",
      "execution_count": null,
      "outputs": [
        {
          "output_type": "stream",
          "name": "stdout",
          "text": [
            "[0.59248268 0.71286345 0.71642453 0.79105608]\n",
            "0.7087002514917955\n"
          ]
        }
      ]
    },
    {
      "cell_type": "code",
      "source": [
        "st3_auc, st3_mean_auc = cumulative_dynamic_auc(y_train, y_test, st3_pred, t)\n",
        "print(st3_auc)\n",
        "print(st3_mean_auc)"
      ],
      "metadata": {
        "colab": {
          "base_uri": "https://localhost:8080/"
        },
        "id": "jv6XID6oCmvu",
        "outputId": "927d4946-1987-49c2-df50-5b414f45557d"
      },
      "id": "jv6XID6oCmvu",
      "execution_count": null,
      "outputs": [
        {
          "output_type": "stream",
          "name": "stdout",
          "text": [
            "[0.65259042 0.77446637 0.72099994 0.82465778]\n",
            "0.7587435888744308\n"
          ]
        }
      ]
    },
    {
      "cell_type": "code",
      "source": [
        "plt.plot(t, st1_auc, marker = 'o', color = 'b')\n",
        "plt.axhline(st1_mean_auc, linestyle=\"--\", color = 'b')\n",
        "\n",
        "plt.plot(t, st2_auc, marker = 'o', color = 'r')\n",
        "plt.axhline(st2_mean_auc, linestyle=\"--\", color = 'r')\n",
        "\n",
        "plt.plot(t, st3_auc, marker = 'o', color = 'g')\n",
        "plt.axhline(st3_mean_auc, linestyle=\"--\", color = 'g')\n",
        "\n",
        "plt.ylim(0.5,0.9)"
      ],
      "metadata": {
        "colab": {
          "base_uri": "https://localhost:8080/",
          "height": 452
        },
        "id": "zE_Uthoxfqrj",
        "outputId": "5372f548-d6a2-4c21-d111-98f46f689824"
      },
      "id": "zE_Uthoxfqrj",
      "execution_count": null,
      "outputs": [
        {
          "output_type": "execute_result",
          "data": {
            "text/plain": [
              "(0.5, 0.9)"
            ]
          },
          "metadata": {},
          "execution_count": 55
        },
        {
          "output_type": "display_data",
          "data": {
            "text/plain": [
              "<Figure size 640x480 with 1 Axes>"
            ],
            "image/png": "[encoded data removed]"
          },
          "metadata": {}
        }
      ]
    },
    {
      "cell_type": "code",
      "source": [
        "t"
      ],
      "metadata": {
        "colab": {
          "base_uri": "https://localhost:8080/"
        },
        "id": "auItqKq8_2Yl",
        "outputId": "2870c5aa-bddf-4daa-e668-fa7e311a5370"
      },
      "id": "auItqKq8_2Yl",
      "execution_count": null,
      "outputs": [
        {
          "output_type": "execute_result",
          "data": {
            "text/plain": [
              "array([0.07659232, 1.07659232, 2.07659232, 3.07659232])"
            ]
          },
          "metadata": {},
          "execution_count": 56
        }
      ]
    },
    {
      "cell_type": "markdown",
      "source": [
        "# Random Forest"
      ],
      "metadata": {
        "id": "94J986nudryM"
      },
      "id": "94J986nudryM"
    },
    {
      "cell_type": "code",
      "source": [
        "import time\n",
        "mod2 = RandomSurvivalForest(random_state = 0, n_jobs = -1).fit(x_train, y_train)\n",
        "\n",
        "params = {\n",
        "    'estimator__max_depth': range(2,8),\n",
        "}"
      ],
      "metadata": {
        "id": "nJbu4s5u-sYu"
      },
      "execution_count": null,
      "outputs": [],
      "id": "nJbu4s5u-sYu"
    },
    {
      "cell_type": "code",
      "source": [
        "start_time = time.time()\n",
        "\n",
        "gcv_brier = RandomizedSearchCV(\n",
        "    as_integrated_brier_score_scorer(mod2, times=t),\n",
        "    param_distributions= params,\n",
        "    cv=cv,\n",
        "    n_jobs = 1\n",
        ").fit(x_train, y_train)\n",
        "\n",
        "print(\"--- %s seconds ---\" % (time.time() - start_time))"
      ],
      "metadata": {
        "colab": {
          "base_uri": "https://localhost:8080/"
        },
        "outputId": "c061b0f9-e54a-4cf6-89f9-12b0fca1bdbd",
        "id": "DKToiL3Y-sYw"
      },
      "execution_count": null,
      "outputs": [
        {
          "output_type": "stream",
          "name": "stdout",
          "text": [
            "--- 63.87326979637146 seconds ---\n"
          ]
        }
      ],
      "id": "DKToiL3Y-sYw"
    },
    {
      "cell_type": "code",
      "source": [
        "print(gcv_brier.best_params_)\n",
        "print(gcv_brier.best_score_)"
      ],
      "metadata": {
        "colab": {
          "base_uri": "https://localhost:8080/"
        },
        "outputId": "4d4952be-4df6-40d1-d5fa-b49ec6775137",
        "id": "OsAyFb0u-sYw"
      },
      "execution_count": null,
      "outputs": [
        {
          "output_type": "stream",
          "name": "stdout",
          "text": [
            "{'estimator__max_depth': 6}\n",
            "-0.1285931105862798\n"
          ]
        }
      ],
      "id": "OsAyFb0u-sYw"
    },
    {
      "cell_type": "code",
      "source": [
        "start_time = time.time()\n",
        "\n",
        "gcv_ci = RandomizedSearchCV(\n",
        "    as_concordance_index_ipcw_scorer(mod2, tau=t[-1]),\n",
        "    param_distributions= params,\n",
        "    cv=cv,\n",
        "    n_jobs=1,\n",
        ").fit(x_train, y_train)\n",
        "\n",
        "print(\"--- %s seconds ---\" % (time.time() - start_time))"
      ],
      "metadata": {
        "id": "TvCsBvzL-sYw",
        "colab": {
          "base_uri": "https://localhost:8080/"
        },
        "outputId": "1e8ce9a2-2442-45d5-c90d-d48dc80373d5"
      },
      "execution_count": null,
      "outputs": [
        {
          "output_type": "stream",
          "name": "stderr",
          "text": [
            "/usr/local/lib/python3.10/dist-packages/sklearn/model_selection/_search.py:320: UserWarning: The total space of parameters 6 is smaller than n_iter=10. Running 6 iterations. For exhaustive searches, use GridSearchCV.\n",
            "  warnings.warn(\n"
          ]
        },
        {
          "output_type": "stream",
          "name": "stdout",
          "text": [
            "--- 38.23978018760681 seconds ---\n"
          ]
        }
      ],
      "id": "TvCsBvzL-sYw"
    },
    {
      "cell_type": "code",
      "source": [
        "print(gcv_ci.best_params_)\n",
        "print(gcv_ci.best_score_)"
      ],
      "metadata": {
        "id": "D0bjvce1-sYx",
        "colab": {
          "base_uri": "https://localhost:8080/"
        },
        "outputId": "15a6a469-07b6-41d4-b9bc-d7b45f58a560"
      },
      "execution_count": null,
      "outputs": [
        {
          "output_type": "stream",
          "name": "stdout",
          "text": [
            "{'estimator__max_depth': 5}\n",
            "0.6944893927296064\n"
          ]
        }
      ],
      "id": "D0bjvce1-sYx"
    },
    {
      "cell_type": "code",
      "source": [
        "gcv_auc = RandomizedSearchCV(\n",
        "    as_cumulative_dynamic_auc_scorer(mod2, times=t),\n",
        "    param_distributions= params,\n",
        "    cv=cv,\n",
        "    n_jobs=1,\n",
        ").fit(x_train, y_train)\n",
        "\n",
        "gcv_auc.best_params_"
      ],
      "metadata": {
        "id": "jy5Bai2p-sYy",
        "colab": {
          "base_uri": "https://localhost:8080/"
        },
        "outputId": "0a306be8-e170-4c56-a334-3405849af1ab"
      },
      "execution_count": null,
      "outputs": [
        {
          "output_type": "stream",
          "name": "stderr",
          "text": [
            "/usr/local/lib/python3.10/dist-packages/sklearn/model_selection/_search.py:320: UserWarning: The total space of parameters 6 is smaller than n_iter=10. Running 6 iterations. For exhaustive searches, use GridSearchCV.\n",
            "  warnings.warn(\n"
          ]
        },
        {
          "output_type": "execute_result",
          "data": {
            "text/plain": [
              "{'estimator__max_depth': 5}"
            ]
          },
          "metadata": {},
          "execution_count": 63
        }
      ],
      "id": "jy5Bai2p-sYy"
    },
    {
      "cell_type": "code",
      "source": [
        "gcv_auc.best_score_"
      ],
      "metadata": {
        "id": "SBjcnWoW-sYy",
        "colab": {
          "base_uri": "https://localhost:8080/"
        },
        "outputId": "274346b1-97bb-400f-ec6c-50b43c619fa0"
      },
      "execution_count": null,
      "outputs": [
        {
          "output_type": "execute_result",
          "data": {
            "text/plain": [
              "0.7975267240155833"
            ]
          },
          "metadata": {},
          "execution_count": 65
        }
      ],
      "id": "SBjcnWoW-sYy"
    },
    {
      "cell_type": "code",
      "source": [
        "rsf = RandomSurvivalForest(max_depth = 5, n_jobs = -1).fit(x_train, y_train)\n",
        "pred4 = rsf.predict(x_test)"
      ],
      "metadata": {
        "id": "NY6yeZc7_eQo"
      },
      "id": "NY6yeZc7_eQo",
      "execution_count": null,
      "outputs": []
    },
    {
      "cell_type": "code",
      "source": [
        "len(set(pred4))"
      ],
      "metadata": {
        "id": "7albKy4XDP5H",
        "colab": {
          "base_uri": "https://localhost:8080/"
        },
        "outputId": "d2919e06-f7dd-4c0d-fadd-054c5e5ecfa4"
      },
      "id": "7albKy4XDP5H",
      "execution_count": null,
      "outputs": [
        {
          "output_type": "execute_result",
          "data": {
            "text/plain": [
              "200"
            ]
          },
          "metadata": {},
          "execution_count": 67
        }
      ]
    },
    {
      "cell_type": "code",
      "source": [
        "# Survival Function\n",
        "pred2 = rsf.predict_survival_function(x_test)\n",
        "for fn in pred2:\n",
        "  plt.step(fn.x, fn(fn.x), where=\"post\")\n",
        "plt.ylim(0,1)\n",
        "plt.xlim(0,5)\n",
        "plt.show()"
      ],
      "metadata": {
        "id": "Ovy2G2KZDWCd",
        "colab": {
          "base_uri": "https://localhost:8080/",
          "height": 435
        },
        "outputId": "e946bca7-f8be-42d9-bf4f-6817805e41ed"
      },
      "id": "Ovy2G2KZDWCd",
      "execution_count": null,
      "outputs": [
        {
          "output_type": "display_data",
          "data": {
            "text/plain": [
              "<Figure size 640x480 with 1 Axes>"
            ],
            "image/png": "[encoded data removed]"
          },
          "metadata": {}
        }
      ]
    },
    {
      "cell_type": "code",
      "source": [
        "rsf.score(x_test, y_test)"
      ],
      "metadata": {
        "id": "FWsXdWtMDEi5",
        "colab": {
          "base_uri": "https://localhost:8080/"
        },
        "outputId": "5e264aa4-a7cc-42f3-a05e-12ae49b552bd"
      },
      "id": "FWsXdWtMDEi5",
      "execution_count": null,
      "outputs": [
        {
          "output_type": "execute_result",
          "data": {
            "text/plain": [
              "0.6905436905436906"
            ]
          },
          "metadata": {},
          "execution_count": 69
        }
      ]
    },
    {
      "cell_type": "code",
      "source": [],
      "metadata": {
        "id": "9gClnKPqF-bq"
      },
      "id": "9gClnKPqF-bq",
      "execution_count": null,
      "outputs": []
    },
    {
      "cell_type": "code",
      "source": [],
      "metadata": {
        "id": "wRYn5OoZF-0J"
      },
      "id": "wRYn5OoZF-0J",
      "execution_count": null,
      "outputs": []
    },
    {
      "cell_type": "markdown",
      "source": [
        "# Neural Networks"
      ],
      "metadata": {
        "id": "0nC0J8vZeofe"
      },
      "id": "0nC0J8vZeofe"
    },
    {
      "cell_type": "code",
      "source": [
        "y_train2 = pd.DataFrame(y_train, columns=['status', 'Y'])\n",
        "y_test2 = pd.DataFrame(y_test, columns=['status', 'Y'])"
      ],
      "metadata": {
        "id": "8wUzgQjId9lT"
      },
      "id": "8wUzgQjId9lT",
      "execution_count": null,
      "outputs": []
    },
    {
      "cell_type": "code",
      "source": [
        "import torch\n",
        "import torch.nn as nn\n",
        "import torch.optim as optim\n",
        "import numpy as np\n",
        "import matplotlib.pyplot as plt\n",
        "\n",
        "class NeuralNetwork(nn.Module):\n",
        "  def __init__(self, in_features, out_features):\n",
        "        super(NeuralNetwork, self).__init__()\n",
        "        torch.nn.Linear(in_features, 32),\n",
        "        torch.nn.ReLU(),\n",
        "        torch.nn.BatchNorm1d(32),\n",
        "        torch.nn.Dropout(0.1),\n",
        "\n",
        "        torch.nn.Linear(32, 32),\n",
        "        torch.nn.ReLU(),\n",
        "        torch.nn.BatchNorm1d(32),\n",
        "        torch.nn.Dropout(0.1),\n",
        "\n",
        "        torch.nn.Linear(32, out_features)\n",
        "\n",
        "  def forward(self, x):\n",
        "\n",
        "        return x\n",
        "\n",
        "def train(model, criterion, optimizer, X, y, epochs=1000):\n",
        "    for epoch in range(epochs):\n",
        "        optimizer.zero_grad()\n",
        "        output = model(X)\n",
        "        loss = criterion(output, y)\n",
        "        loss.backward()\n",
        "        optimizer.step()\n",
        "\n",
        "def cox_loss_function(log_hz, event, time):\n",
        "    time_sorted, idx = torch.sort(time)\n",
        "    log_hz_sorted = log_hz[idx]\n",
        "    event_sorted = event[idx]\n",
        "    time_unique = torch.unique(time_sorted)\n",
        "\n",
        "    if len(time_unique) == len(time_sorted):\n",
        "        pll = (log_hz_sorted - torch.logcumsumexp(log_hz_sorted.flip(0), dim=0).flip(0))[event_sorted]\n",
        "\n",
        "    pll = torch.neg(pll)\n",
        "\n",
        "    return loss"
      ],
      "metadata": {
        "id": "xZlhJJwfep3v"
      },
      "id": "xZlhJJwfep3v",
      "execution_count": null,
      "outputs": []
    },
    {
      "cell_type": "code",
      "source": [
        "# nn_pred ="
      ],
      "metadata": {
        "id": "tVfEdJZSWv2A"
      },
      "id": "tVfEdJZSWv2A",
      "execution_count": null,
      "outputs": []
    },
    {
      "cell_type": "code",
      "source": [
        "# concordance_index_ipcw(y_test['Status'], y_test['Survival_in_days'], nn_pred)"
      ],
      "metadata": {
        "id": "liRJR54MfaWH"
      },
      "id": "liRJR54MfaWH",
      "execution_count": null,
      "outputs": []
    },
    {
      "cell_type": "code",
      "source": [],
      "metadata": {
        "id": "zhFrQJ3yv8Uv"
      },
      "id": "zhFrQJ3yv8Uv",
      "execution_count": null,
      "outputs": []
    },
    {
      "cell_type": "markdown",
      "source": [
        "# SVMs"
      ],
      "metadata": {
        "id": "k3JMYAIF1R-O"
      },
      "id": "k3JMYAIF1R-O"
    },
    {
      "cell_type": "code",
      "source": [
        "from sksurv.svm import HingeLossSurvivalSVM, FastKernelSurvivalSVM, FastSurvivalSVM, MinlipSurvivalAnalysis, NaiveSurvivalSVM\n",
        "from sksurv.kernels import clinical_kernel\n",
        "\n",
        "hlsvm = HingeLossSurvivalSVM()\n",
        "fksvm = FastKernelSurvivalSVM(optimizer=\"rbtree\", kernel=\"precomputed\", random_state=0)\n",
        "fsvm = FastSurvivalSVM(max_iter=1000, tol=1e-5, random_state=0)\n",
        "nsvm = NaiveSurvivalSVM(tol=1e-5, random_state=0)\n",
        "\n",
        "param_grid = {\"alpha\": 2.0**np.arange(-2, 2, 1)}"
      ],
      "metadata": {
        "id": "HLg4cAbU0H44"
      },
      "id": "HLg4cAbU0H44",
      "execution_count": null,
      "outputs": []
    },
    {
      "cell_type": "code",
      "source": [
        "def scoring(mod, x, y):\n",
        "    return concordance_index_ipcw(y[\"obs\"], y[\"Y\"], mod.predict(x))[0]\n",
        "\n",
        "gcv_hlsvm = GridSearchCV(hlsvm,\n",
        "                         param_grid,\n",
        "                         scoring = scoring,\n",
        "                         n_jobs=-1,\n",
        "                         cv=cv).fit(x_train, y_train)"
      ],
      "metadata": {
        "id": "sYXEnhpq0_2-"
      },
      "execution_count": null,
      "outputs": [],
      "id": "sYXEnhpq0_2-"
    },
    {
      "cell_type": "code",
      "source": [
        "print(gcv_hlsvm.best_params_)\n",
        "print(gcv_hlsvm.best_score_)"
      ],
      "metadata": {
        "id": "p-VdL6c40_3A"
      },
      "execution_count": null,
      "outputs": [],
      "id": "p-VdL6c40_3A"
    },
    {
      "cell_type": "code",
      "source": [
        "gcv_fsvm = GridSearchCV(fsvm,\n",
        "                        param_grid,\n",
        "                        scoring = scoring,\n",
        "                        n_jobs=-1,\n",
        "                        cv=cv).fit(x_train, y_train)"
      ],
      "metadata": {
        "id": "SMNIqM1S1CtP"
      },
      "id": "SMNIqM1S1CtP",
      "execution_count": null,
      "outputs": []
    },
    {
      "cell_type": "code",
      "source": [
        "print(gcv_fsvm.best_params_)\n",
        "print(gcv_fsvm.best_score_)"
      ],
      "metadata": {
        "id": "9twK_MONvvbt"
      },
      "id": "9twK_MONvvbt",
      "execution_count": null,
      "outputs": []
    },
    {
      "cell_type": "code",
      "source": [
        "gcv_fksvm = GridSearchCV(fksvm,\n",
        "                         param_grid,\n",
        "                         scoring = scoring,\n",
        "                         n_jobs=-1,\n",
        "                         refit=False,\n",
        "                         cv=cv).fit(clinical_kernel(x_train), y_train)"
      ],
      "metadata": {
        "id": "qydDZannxNZY"
      },
      "id": "qydDZannxNZY",
      "execution_count": null,
      "outputs": []
    },
    {
      "cell_type": "code",
      "source": [
        "print(gcv_fksvm.best_params_)\n",
        "print(gcv_fksvm.best_score_)"
      ],
      "metadata": {
        "id": "QlG4twAZxWWw"
      },
      "id": "QlG4twAZxWWw",
      "execution_count": null,
      "outputs": []
    },
    {
      "cell_type": "code",
      "source": [
        "gcv_nsvm = GridSearchCV(nsvm,\n",
        "                        param_grid,\n",
        "                        scoring = scoring,\n",
        "                        n_jobs=-1,\n",
        "                        cv=cv).fit(x_train, y_train)"
      ],
      "metadata": {
        "id": "XzIk0_nL1-5p"
      },
      "execution_count": null,
      "outputs": [],
      "id": "XzIk0_nL1-5p"
    },
    {
      "cell_type": "code",
      "source": [
        "print(gcv_nsvm.best_params_)\n",
        "print(gcv_nsvm.best_score_)"
      ],
      "metadata": {
        "id": "cFdD2N5G1-5r"
      },
      "execution_count": null,
      "outputs": [],
      "id": "cFdD2N5G1-5r"
    },
    {
      "cell_type": "markdown",
      "source": [
        "# Plotting Tree"
      ],
      "metadata": {
        "id": "h5l_dgee2k66"
      },
      "id": "h5l_dgee2k66"
    },
    {
      "cell_type": "code",
      "source": [
        "\"\"\"\n",
        "This module defines export functions for survival trees.\n",
        "\n",
        "It is based on the sklearn.tree.export module.\n",
        "\"\"\"\n",
        "\n",
        "# Authors: Gilles Louppe <g.louppe@gmail.com>\n",
        "#          Peter Prettenhofer <peter.prettenhofer@gmail.com>\n",
        "#          Brian Holt <bdholt1@gmail.com>\n",
        "#          Noel Dawe <noel@dawe.me>\n",
        "#          Satrajit Gosh <satrajit.ghosh@gmail.com>\n",
        "#          Trevor Stephens <trev.stephens@gmail.com>\n",
        "#          Li Li <aiki.nogard@gmail.com>\n",
        "#          Giuseppe Vettigli <vettigli@gmail.com>\n",
        "# License: BSD 3 clause\n",
        "import warnings\n",
        "\n",
        "from numbers import Integral\n",
        "\n",
        "import numpy as np\n",
        "\n",
        "from sklearn.tree import _criterion\n",
        "from sklearn.tree import _tree\n",
        "from sklearn.tree._reingold_tilford import buchheim, Tree\n",
        "from sklearn.tree import DecisionTreeClassifier\n",
        "from sksurv.tree import SurvivalTree\n",
        "from sksurv.tree._criterion import LogrankCriterion\n",
        "\n",
        "\n",
        "def _color_brew(n):\n",
        "    \"\"\"Generate n colors with equally spaced hues.\n",
        "\n",
        "    Parameters\n",
        "    ----------\n",
        "    n : int\n",
        "        The number of colors required.\n",
        "\n",
        "    Returns\n",
        "    -------\n",
        "    color_list : list, length n\n",
        "        List of n tuples of form (R, G, B) being the components of each color.\n",
        "    \"\"\"\n",
        "    color_list = []\n",
        "\n",
        "    # Initialize saturation & value; calculate chroma & value shift\n",
        "    s, v = 0.75, 0.9\n",
        "    c = s * v\n",
        "    m = v - c\n",
        "\n",
        "    for h in np.arange(25, 385, 360. / n).astype(int):\n",
        "        # Calculate some intermediate values\n",
        "        h_bar = h / 60.\n",
        "        x = c * (1 - abs((h_bar % 2) - 1))\n",
        "        # Initialize RGB with same hue & chroma as our color\n",
        "        rgb = [(c, x, 0),\n",
        "               (x, c, 0),\n",
        "               (0, c, x),\n",
        "               (0, x, c),\n",
        "               (x, 0, c),\n",
        "               (c, 0, x),\n",
        "               (c, x, 0)]\n",
        "        r, g, b = rgb[int(h_bar)]\n",
        "        # Shift the initial RGB values to match value and store\n",
        "        rgb = [(int(255 * (r + m))),\n",
        "               (int(255 * (g + m))),\n",
        "               (int(255 * (b + m)))]\n",
        "        color_list.append(rgb)\n",
        "\n",
        "    return color_list\n",
        "\n",
        "\n",
        "def plot_tree(decision_tree, max_depth=None, feature_names=None,\n",
        "              class_names=None, label='all', filled=False,\n",
        "              impurity=True, node_ids=False,\n",
        "              proportion=False, rotate=False, rounded=False,\n",
        "              precision=3, ax=None, fontsize=None):\n",
        "    \"\"\"Plot a decision tree.\n",
        "\n",
        "    The sample counts that are shown are weighted with any sample_weights that\n",
        "    might be present.\n",
        "    This function requires matplotlib, and works best with matplotlib >= 1.5.\n",
        "\n",
        "    The visualization is fit automatically to the size of the axis.\n",
        "    Use the ``figsize`` or ``dpi`` arguments of ``plt.figure``  to control\n",
        "    the size of the rendering.\n",
        "\n",
        "    Read more in the :ref:`User Guide <tree>`.\n",
        "\n",
        "    .. versionadded:: 0.21\n",
        "\n",
        "    Parameters\n",
        "    ----------\n",
        "    decision_tree : decision tree regressor or classifier\n",
        "        The decision tree to be exported to GraphViz.\n",
        "\n",
        "    max_depth : int, optional (default=None)\n",
        "        The maximum depth of the representation. If None, the tree is fully\n",
        "        generated.\n",
        "\n",
        "    feature_names : list of strings, optional (default=None)\n",
        "        Names of each of the features.\n",
        "\n",
        "    class_names : list of strings, bool or None, optional (default=None)\n",
        "        Names of each of the target classes in ascending numerical order.\n",
        "        Only relevant for classification and not supported for multi-output.\n",
        "        If ``True``, shows a symbolic representation of the class name.\n",
        "\n",
        "    label : {'all', 'root', 'none'}, optional (default='all')\n",
        "        Whether to show informative labels for impurity, etc.\n",
        "        Options include 'all' to show at every node, 'root' to show only at\n",
        "        the top root node, or 'none' to not show at any node.\n",
        "\n",
        "    filled : bool, optional (default=False)\n",
        "        When set to ``True``, paint nodes to indicate majority class for\n",
        "        classification, extremity of values for regression, or purity of node\n",
        "        for multi-output.\n",
        "\n",
        "    impurity : bool, optional (default=True)\n",
        "        When set to ``True``, show the impurity at each node.\n",
        "\n",
        "    node_ids : bool, optional (default=False)\n",
        "        When set to ``True``, show the ID number on each node.\n",
        "\n",
        "    proportion : bool, optional (default=False)\n",
        "        When set to ``True``, change the display of 'values' and/or 'samples'\n",
        "        to be proportions and percentages respectively.\n",
        "\n",
        "    rotate : bool, optional (default=False)\n",
        "        When set to ``True``, orient tree left to right rather than top-down.\n",
        "\n",
        "    rounded : bool, optional (default=False)\n",
        "        When set to ``True``, draw node boxes with rounded corners and use\n",
        "        Helvetica fonts instead of Times-Roman.\n",
        "\n",
        "    precision : int, optional (default=3)\n",
        "        Number of digits of precision for floating point in the values of\n",
        "        impurity, threshold and value attributes of each node.\n",
        "\n",
        "    ax : matplotlib axis, optional (default=None)\n",
        "        Axes to plot to. If None, use current axis. Any previous content\n",
        "        is cleared.\n",
        "\n",
        "    fontsize : int, optional (default=None)\n",
        "        Size of text font. If None, determined automatically to fit figure.\n",
        "\n",
        "    Returns\n",
        "    -------\n",
        "    annotations : list of artists\n",
        "        List containing the artists for the annotation boxes making up the\n",
        "        tree.\n",
        "\n",
        "    Examples\n",
        "    --------\n",
        "    >>> from sklearn.datasets import load_iris\n",
        "    >>> from sklearn import tree\n",
        "\n",
        "    >>> clf = tree.DecisionTreeClassifier(random_state=0)\n",
        "    >>> iris = load_iris()\n",
        "\n",
        "    >>> clf = clf.fit(iris.data, iris.target)\n",
        "    >>> tree.plot_tree(clf)  # doctest: +SKIP\n",
        "    [Text(251.5,345.217,'X[3] <= 0.8...\n",
        "\n",
        "    \"\"\"\n",
        "    exporter = _MPLTreeExporter(\n",
        "        max_depth=max_depth, feature_names=feature_names,\n",
        "        class_names=class_names, label=label, filled=filled,\n",
        "        impurity=impurity, node_ids=node_ids,\n",
        "        proportion=proportion, rotate=rotate, rounded=rounded,\n",
        "        precision=precision, fontsize=fontsize)\n",
        "    return exporter.export(decision_tree, ax=ax)\n",
        "\n",
        "\n",
        "class _BaseTreeExporter(object):\n",
        "    def __init__(self, max_depth=None, feature_names=None,\n",
        "                 class_names=None, label='all', filled=False,\n",
        "                 impurity=True, node_ids=False,\n",
        "                 proportion=False, rotate=False, rounded=False,\n",
        "                 precision=3, fontsize=None):\n",
        "        self.max_depth = max_depth\n",
        "        self.feature_names = feature_names\n",
        "        self.class_names = class_names\n",
        "        self.label = label\n",
        "        self.filled = filled\n",
        "        self.impurity = impurity\n",
        "        self.node_ids = node_ids\n",
        "        self.proportion = proportion\n",
        "        self.rotate = rotate\n",
        "        self.rounded = rounded\n",
        "        self.precision = precision\n",
        "        self.fontsize = fontsize\n",
        "\n",
        "    def get_color(self, value):\n",
        "        # Find the appropriate color & intensity for a node\n",
        "        if self.colors['bounds'] is None:\n",
        "            # Classification tree\n",
        "            color = list(self.colors['rgb'][np.argmax(value)])\n",
        "            sorted_values = sorted(value, reverse=True)\n",
        "            if len(sorted_values) == 1:\n",
        "                alpha = 0\n",
        "            else:\n",
        "                alpha = ((sorted_values[0] - sorted_values[1])\n",
        "                         / (1 - sorted_values[1]))\n",
        "        else:\n",
        "            # Regression tree or multi-output\n",
        "            color = list(self.colors['rgb'][0])\n",
        "            alpha = ((value - self.colors['bounds'][0]) /\n",
        "                     (self.colors['bounds'][1] - self.colors['bounds'][0]))\n",
        "        # unpack numpy scalars\n",
        "        alpha = float(alpha)\n",
        "        # compute the color as alpha against white\n",
        "        color = [int(round(alpha * c + (1 - alpha) * 255, 0)) for c in color]\n",
        "        # Return html color code in #RRGGBB format\n",
        "        return '#%2x%2x%2x' % tuple(color)\n",
        "\n",
        "    def get_fill_color(self, tree, node_id):\n",
        "        # Fetch appropriate color for node\n",
        "        if 'rgb' not in self.colors:\n",
        "            # Initialize colors and bounds if required\n",
        "            self.colors['rgb'] = _color_brew(tree.n_classes[0])\n",
        "            if tree.n_outputs != 1:\n",
        "                # Find max and min impurities for multi-output\n",
        "                self.colors['bounds'] = (np.min(-tree.impurity),\n",
        "                                         np.max(-tree.impurity))\n",
        "            elif (tree.n_classes[0] == 1 and\n",
        "                  len(np.unique(tree.value)) != 1):\n",
        "                # Find max and min values in leaf nodes for regression\n",
        "                self.colors['bounds'] = (np.min(tree.value),\n",
        "                                         np.max(tree.value))\n",
        "        if tree.n_outputs == 1:\n",
        "            node_val = (tree.value[node_id][0, :] /\n",
        "                        tree.weighted_n_node_samples[node_id])\n",
        "            if tree.n_classes[0] == 1:\n",
        "                # Regression\n",
        "                node_val = tree.value[node_id][0, :]\n",
        "        else:\n",
        "            # If multi-output color node by impurity\n",
        "            node_val = -tree.impurity[node_id]\n",
        "        return self.get_color(node_val)\n",
        "\n",
        "    def node_to_str(self, tree, node_id, criterion):\n",
        "        # Generate the node content string\n",
        "        if tree.n_outputs == 1:\n",
        "            value = tree.value[node_id][0, :]\n",
        "        else:\n",
        "            value = tree.value[node_id]\n",
        "\n",
        "        # Should labels be shown?\n",
        "        labels = (self.label == 'root' and node_id == 0) or self.label == 'all'\n",
        "\n",
        "        characters = self.characters\n",
        "        node_string = characters[-1]\n",
        "\n",
        "        # Write node ID\n",
        "        if self.node_ids:\n",
        "            if labels:\n",
        "                node_string += 'node '\n",
        "            node_string += characters[0] + str(node_id) + characters[4]\n",
        "\n",
        "        # Write decision criteria\n",
        "        if tree.children_left[node_id] != _tree.TREE_LEAF:\n",
        "            # Always write node decision criteria, except for leaves\n",
        "            if self.feature_names is not None:\n",
        "                feature = self.feature_names[tree.feature[node_id]]\n",
        "            else:\n",
        "                feature = \"X%s%s%s\" % (characters[1],\n",
        "                                       tree.feature[node_id],\n",
        "                                       characters[2])\n",
        "            node_string += '%s %s %s%s' % (feature,\n",
        "                                           characters[3],\n",
        "                                           round(tree.threshold[node_id],\n",
        "                                                 self.precision),\n",
        "                                           characters[4])\n",
        "\n",
        "        # Write impurity\n",
        "        if self.impurity:\n",
        "            if isinstance(criterion, _criterion.FriedmanMSE):\n",
        "                criterion = \"friedman_mse\"\n",
        "            elif not isinstance(criterion, str):\n",
        "                criterion = \"impurity\"\n",
        "            if labels:\n",
        "                node_string += '%s = ' % criterion\n",
        "            node_string += (str(round(tree.impurity[node_id], self.precision))\n",
        "                            + characters[4])\n",
        "\n",
        "        # Write node sample count\n",
        "        if labels:\n",
        "            node_string += 'samples = '\n",
        "        if self.proportion:\n",
        "            percent = (100. * tree.n_node_samples[node_id] /\n",
        "                       float(tree.n_node_samples[0]))\n",
        "            node_string += (str(round(percent, 1)) + '%' +\n",
        "                            characters[4])\n",
        "        else:\n",
        "            node_string += (str(tree.n_node_samples[node_id]) +\n",
        "                            characters[4])\n",
        "\n",
        "        # Write node class distribution / regression value\n",
        "        if self.proportion and tree.n_classes[0] != 1:\n",
        "            # For classification this will show the proportion of samples\n",
        "            value = value / tree.weighted_n_node_samples[node_id]\n",
        "        if labels:\n",
        "            node_string += 'value = '\n",
        "        if criterion == \"logrank\":\n",
        "            value_text = np.array(\"\", dtype=\"S32\")\n",
        "        elif tree.n_classes[0] == 1:\n",
        "            # Regression\n",
        "            value_text = np.around(value, self.precision)\n",
        "        elif self.proportion:\n",
        "            # Classification\n",
        "            value_text = np.around(value, self.precision)\n",
        "        elif np.all(np.equal(np.mod(value, 1), 0)):\n",
        "            # Classification without floating-point weights\n",
        "            value_text = value.astype(int)\n",
        "        else:\n",
        "            # Classification with floating-point weights\n",
        "            value_text = np.around(value, self.precision)\n",
        "        # Strip whitespace\n",
        "        value_text = str(value_text.astype('S32')).replace(\"b'\", \"'\")\n",
        "        value_text = value_text.replace(\"' '\", \", \").replace(\"'\", \"\")\n",
        "        if tree.n_classes[0] == 1 and tree.n_outputs == 1:\n",
        "            value_text = value_text.replace(\"[\", \"\").replace(\"]\", \"\")\n",
        "        value_text = value_text.replace(\"\\n \", characters[4])\n",
        "        node_string += value_text + characters[4]\n",
        "\n",
        "        # Write node majority class\n",
        "        if (self.class_names is not None and\n",
        "                tree.n_classes[0] != 1 and\n",
        "                tree.n_outputs == 1):\n",
        "            # Only done for single-output classification trees\n",
        "            if labels:\n",
        "                node_string += 'class = '\n",
        "            if self.class_names is not True:\n",
        "                class_name = self.class_names[np.argmax(value)]\n",
        "            else:\n",
        "                class_name = \"y%s%s%s\" % (characters[1],\n",
        "                                          np.argmax(value),\n",
        "                                          characters[2])\n",
        "            node_string += class_name\n",
        "\n",
        "        # Clean up any trailing newlines\n",
        "        if node_string.endswith(characters[4]):\n",
        "            node_string = node_string[:-len(characters[4])]\n",
        "\n",
        "        return node_string + characters[5]\n",
        "\n",
        "\n",
        "class _MPLTreeExporter(_BaseTreeExporter):\n",
        "    def __init__(self, max_depth=None, feature_names=None,\n",
        "                 class_names=None, label='all', filled=False,\n",
        "                 impurity=True, node_ids=False,\n",
        "                 proportion=False, rotate=False, rounded=False,\n",
        "                 precision=3, fontsize=None):\n",
        "\n",
        "        super().__init__(\n",
        "            max_depth=max_depth, feature_names=feature_names,\n",
        "            class_names=class_names, label=label, filled=filled,\n",
        "            impurity=impurity, node_ids=node_ids, proportion=proportion,\n",
        "            rotate=rotate, rounded=rounded, precision=precision)\n",
        "        self.fontsize = fontsize\n",
        "\n",
        "        # validate\n",
        "        if isinstance(precision, Integral):\n",
        "            if precision < 0:\n",
        "                raise ValueError(\"'precision' should be greater or equal to 0.\"\n",
        "                                 \" Got {} instead.\".format(precision))\n",
        "        else:\n",
        "            raise ValueError(\"'precision' should be an integer. Got {}\"\n",
        "                             \" instead.\".format(type(precision)))\n",
        "\n",
        "        # The depth of each node for plotting with 'leaf' option\n",
        "        self.ranks = {'leaves': []}\n",
        "        # The colors to render each node with\n",
        "        self.colors = {'bounds': None}\n",
        "\n",
        "        self.characters = ['#', '[', ']', '<=', '\\n', '', '']\n",
        "\n",
        "        self.bbox_args = dict(fc='w')\n",
        "        if self.rounded:\n",
        "            self.bbox_args['boxstyle'] = \"round\"\n",
        "        else:\n",
        "            # matplotlib <1.5 requires explicit boxstyle\n",
        "            self.bbox_args['boxstyle'] = \"square\"\n",
        "\n",
        "        self.arrow_args = dict(arrowstyle=\"<-\")\n",
        "\n",
        "    def _make_tree(self, node_id, et, depth=0, criterion='entropy'):\n",
        "        # traverses _tree.Tree recursively, builds intermediate\n",
        "        # \"_reingold_tilford.Tree\" object\n",
        "        name = self.node_to_str(et, node_id, criterion=criterion)\n",
        "        if (et.children_left[node_id] != _tree.TREE_LEAF\n",
        "                and (self.max_depth is None or depth <= self.max_depth)):\n",
        "            children = [self._make_tree(et.children_left[node_id], et,\n",
        "                                        depth=depth + 1, criterion=criterion),\n",
        "                        self._make_tree(et.children_right[node_id], et,\n",
        "                                        depth=depth + 1, criterion=criterion)]\n",
        "        else:\n",
        "            return Tree(name, node_id)\n",
        "        return Tree(name, node_id, *children)\n",
        "\n",
        "    def export(self, decision_tree, ax=None):\n",
        "        import matplotlib.pyplot as plt\n",
        "        from matplotlib.text import Annotation\n",
        "        if ax is None:\n",
        "            ax = plt.gca()\n",
        "        ax.clear()\n",
        "        ax.set_axis_off()\n",
        "        if isinstance(decision_tree, SurvivalTree):\n",
        "            criterion = \"logrank\"\n",
        "        else:\n",
        "            criterion = decision_tree.criterion\n",
        "        my_tree = self._make_tree(0, decision_tree.tree_, criterion=criterion)\n",
        "        draw_tree = buchheim(my_tree)\n",
        "\n",
        "        # important to make sure we're still\n",
        "        # inside the axis after drawing the box\n",
        "        # this makes sense because the width of a box\n",
        "        # is about the same as the distance between boxes\n",
        "        max_x, max_y = draw_tree.max_extents() + 1\n",
        "        ax_width = ax.get_window_extent().width\n",
        "        ax_height = ax.get_window_extent().height\n",
        "\n",
        "        scale_x = ax_width / max_x\n",
        "        scale_y = ax_height / max_y\n",
        "\n",
        "        self.recurse(draw_tree, decision_tree.tree_, ax,\n",
        "                     scale_x, scale_y, ax_height)\n",
        "\n",
        "        anns = [ann for ann in ax.get_children()\n",
        "                if isinstance(ann, Annotation)]\n",
        "\n",
        "        # update sizes of all bboxes\n",
        "        renderer = ax.figure.canvas.get_renderer()\n",
        "\n",
        "        for ann in anns:\n",
        "            ann.update_bbox_position_size(renderer)\n",
        "\n",
        "        if self.fontsize is None:\n",
        "            # get figure to data transform\n",
        "            # adjust fontsize to avoid overlap\n",
        "            # get max box width and height\n",
        "            try:\n",
        "                extents = [ann.get_bbox_patch().get_window_extent()\n",
        "                           for ann in anns]\n",
        "                max_width = max([extent.width for extent in extents])\n",
        "                max_height = max([extent.height for extent in extents])\n",
        "                # width should be around scale_x in axis coordinates\n",
        "                size = anns[0].get_fontsize() * min(scale_x / max_width,\n",
        "                                                    scale_y / max_height)\n",
        "                for ann in anns:\n",
        "                    ann.set_fontsize(size)\n",
        "            except AttributeError:\n",
        "                # matplotlib < 1.5\n",
        "                warnings.warn(\"Automatic scaling of tree plots requires \"\n",
        "                              \"matplotlib 1.5 or higher. Please specify \"\n",
        "                              \"fontsize.\")\n",
        "\n",
        "        return anns\n",
        "\n",
        "    def recurse(self, node, tree, ax, scale_x, scale_y, height, depth=0):\n",
        "        # need to copy bbox args because matplotib <1.5 modifies them\n",
        "        kwargs = dict(bbox=self.bbox_args.copy(), ha='center', va='center',\n",
        "                      zorder=100 - 10 * depth, xycoords='axes pixels')\n",
        "\n",
        "        if self.fontsize is not None:\n",
        "            kwargs['fontsize'] = self.fontsize\n",
        "\n",
        "        # offset things by .5 to center them in plot\n",
        "        xy = ((node.x + .5) * scale_x, height - (node.y + .5) * scale_y)\n",
        "\n",
        "        if self.max_depth is None or depth <= self.max_depth:\n",
        "            if self.filled:\n",
        "                kwargs['bbox']['fc'] = self.get_fill_color(tree,\n",
        "                                                           node.tree.node_id)\n",
        "            if node.parent is None:\n",
        "                # root\n",
        "                ax.annotate(node.tree.label, xy, **kwargs)\n",
        "            else:\n",
        "                xy_parent = ((node.parent.x + .5) * scale_x,\n",
        "                             height - (node.parent.y + .5) * scale_y)\n",
        "                kwargs[\"arrowprops\"] = self.arrow_args\n",
        "                ax.annotate(node.tree.label, xy_parent, xy, **kwargs)\n",
        "            for child in node.children:\n",
        "                self.recurse(child, tree, ax, scale_x, scale_y, height,\n",
        "                             depth=depth + 1)\n",
        "\n",
        "        else:\n",
        "            xy_parent = ((node.parent.x + .5) * scale_x,\n",
        "                         height - (node.parent.y + .5) * scale_y)\n",
        "            kwargs[\"arrowprops\"] = self.arrow_args\n",
        "            kwargs['bbox']['fc'] = 'grey'\n",
        "            ax.annotate(\"\\n  (...)  \\n\", xy_parent, xy, **kwargs)"
      ],
      "metadata": {
        "id": "W_s-W2Hx2hc7"
      },
      "id": "W_s-W2Hx2hc7",
      "execution_count": null,
      "outputs": []
    },
    {
      "cell_type": "code",
      "source": [
        "Z_names = ['Z1', 'Z2', 'Z3']"
      ],
      "metadata": {
        "id": "RyU-mJrt_HZa"
      },
      "id": "RyU-mJrt_HZa",
      "execution_count": null,
      "outputs": []
    },
    {
      "cell_type": "code",
      "source": [
        "_, ax = plt.subplots(figsize=(5, 5))\n",
        "\n",
        "plot_tree(st1,\n",
        "          feature_names = Z_names,\n",
        "          impurity = False,\n",
        "          label = None,\n",
        "          ax = ax,\n",
        "          fontsize = 10)"
      ],
      "metadata": {
        "id": "qM6fWJ7r_Lti"
      },
      "id": "qM6fWJ7r_Lti",
      "execution_count": null,
      "outputs": []
    },
    {
      "cell_type": "code",
      "source": [
        "_, ax = plt.subplots(figsize=(10, 10))\n",
        "plot_tree(st2,\n",
        "          feature_names = Z_names,\n",
        "          impurity = False,\n",
        "          label = None,\n",
        "          ax = ax,\n",
        "          fontsize = 10)"
      ],
      "metadata": {
        "id": "u7LnF9EP_L0H"
      },
      "id": "u7LnF9EP_L0H",
      "execution_count": null,
      "outputs": []
    },
    {
      "cell_type": "code",
      "source": [
        "_, ax = plt.subplots(figsize=(20, 20))\n",
        "plot_tree(st3,\n",
        "          feature_names = Z_names,\n",
        "          impurity = False,\n",
        "          label = None,\n",
        "          ax = ax,\n",
        "          fontsize = 10)"
      ],
      "metadata": {
        "id": "fifJ98y_3ZpU"
      },
      "id": "fifJ98y_3ZpU",
      "execution_count": null,
      "outputs": []
    },
    {
      "cell_type": "code",
      "source": [
        "_, ax = plt.subplots(figsize=(20, 20))\n",
        "plot_tree(rsf.estimators_[0],\n",
        "          feature_names=Z_names,\n",
        "          impurity=False,\n",
        "          label=\"none\")"
      ],
      "metadata": {
        "id": "AHhQuBhI1ink"
      },
      "id": "AHhQuBhI1ink",
      "execution_count": null,
      "outputs": []
    },
    {
      "cell_type": "code",
      "source": [
        "'''\n",
        "from graphviz import Source\n",
        "from sklearn.tree import export_graphviz\n",
        "\n",
        "graph=Source(export_graphviz(st,\n",
        "                             feature_names=Z_names,\n",
        "                             filled=True,\n",
        "                             rounded=True))\n",
        "\n",
        "graph\n",
        "\n",
        "from dtreeviz.trees import *\n",
        "\n",
        "viz = dtreeviz(st, x_train, np.array([x[1] for x in y_train]), target_name='time to event',\n",
        "               feature_names=x_train.iloc[:,2:].columns.tolist())\n",
        "               '''"
      ],
      "metadata": {
        "id": "A666PWW2xUIT"
      },
      "execution_count": null,
      "outputs": [],
      "id": "A666PWW2xUIT"
    },
    {
      "cell_type": "markdown",
      "source": [
        "# Simulations\n"
      ],
      "metadata": {
        "id": "ZBqg5VkKcUAI"
      },
      "id": "ZBqg5VkKcUAI"
    },
    {
      "cell_type": "code",
      "source": [
        "runs = 500\n",
        "\n",
        "p = 3\n",
        "mu = [0]*p\n",
        "S = np.diag([1,5,10])\n",
        "N = 1000\n",
        "beta = np.array([0.5, -0.3, 0]) # Coefficients for covariates\n",
        "tau = 5 # Maximum follow-up time for censoring\n",
        "\n",
        "h0 = 1 # baseline hazard\n",
        "\n",
        "sim_coef = np.zeros(shape=(runs, 3))\n",
        "\n",
        "for r in range(runs):\n",
        "  np.random.seed(r)\n",
        "  Z = np.random.multivariate_normal(mu, S, N)\n",
        "  u = np.random.uniform(0, 1, N)\n",
        "\n",
        "  T = -np.log(u)*np.exp(-Z@beta)\n",
        "  cu = np.random.uniform(0, tau, N) # censoring time\n",
        "\n",
        "  Y = np.minimum(T, cu)\n",
        "  obs = (T<= cu) # censored (0,1)\n",
        "\n",
        "  y = pd.DataFrame(np.concatenate((obs, Y)).reshape((-1, 2), order='F'))\n",
        "  y[0] = y[0].astype(\"bool\")\n",
        "  y = y.to_records(index=False)\n",
        "\n",
        "  sim_coef[r] = CoxPHSurvivalAnalysis().fit(Z, y).coef_"
      ],
      "metadata": {
        "id": "fs1pLpslyqjT"
      },
      "id": "fs1pLpslyqjT",
      "execution_count": null,
      "outputs": []
    },
    {
      "cell_type": "code",
      "source": [
        "np.mean(sim_coef, axis = 0)"
      ],
      "metadata": {
        "id": "3tPtxEBdB-qj",
        "colab": {
          "base_uri": "https://localhost:8080/"
        },
        "outputId": "90daacfc-aa57-4f03-ff02-e087f7009641"
      },
      "id": "3tPtxEBdB-qj",
      "execution_count": null,
      "outputs": [
        {
          "output_type": "execute_result",
          "data": {
            "text/plain": [
              "array([ 0.50334641, -0.30069935,  0.0005226 ])"
            ]
          },
          "metadata": {},
          "execution_count": 6
        }
      ]
    },
    {
      "cell_type": "code",
      "source": [
        "plt.plot(sim_coef)\n",
        "[plt.axhline(y=i, alpha = 0.5, color = 'r') for i in np.mean(sim_coef, axis = 0)]\n",
        "plt.show()"
      ],
      "metadata": {
        "id": "xocXDYe7GUYz",
        "colab": {
          "base_uri": "https://localhost:8080/",
          "height": 430
        },
        "outputId": "89cc6a0d-1b76-47ab-d1fe-05fe88c4f4af"
      },
      "id": "xocXDYe7GUYz",
      "execution_count": null,
      "outputs": [
        {
          "output_type": "display_data",
          "data": {
            "text/plain": [
              "<Figure size 640x480 with 1 Axes>"
            ],
            "image/png": "[encoded data removed]"
          },
          "metadata": {}
        }
      ]
    }
  ],
  "metadata": {
    "kernelspec": {
      "display_name": "Python 3 (ipykernel)",
      "language": "python",
      "name": "python3"
    },
    "language_info": {
      "codemirror_mode": {
        "name": "ipython",
        "version": 3
      },
      "file_extension": ".py",
      "mimetype": "text/x-python",
      "name": "python",
      "nbconvert_exporter": "python",
      "pygments_lexer": "ipython3",
      "version": "3.8.6"
    },
    "colab": {
      "provenance": [],
      "collapsed_sections": [
        "G3WNfDDxck1l"
      ],
      "include_colab_link": true
    }
  },
  "nbformat": 4,
  "nbformat_minor": 5
}